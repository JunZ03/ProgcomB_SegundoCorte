{
  "nbformat": 4,
  "nbformat_minor": 0,
  "metadata": {
    "colab": {
      "provenance": []
    },
    "kernelspec": {
      "name": "python3",
      "display_name": "Python 3"
    },
    "language_info": {
      "name": "python"
    }
  },
  "cells": [
    {
      "cell_type": "code",
      "execution_count": null,
      "metadata": {
        "id": "q3g3Y-22hVuR"
      },
      "outputs": [],
      "source": [
        "class Saiyajin():\n",
        "  def __init__(self,nombre,ccabello,cojos,cola_mono,estatura):\n",
        "    self.nombre=nombre\n",
        "    self.ccabello=\"Negro\"\n",
        "    self.cojos=\"Negros\"\n",
        "    self.cola_mono=True\n",
        "    self.estatura=estatura\n",
        "  def cambio_pelo(self,putisteria):\n",
        "    if putisteria>=4000 and putisteria<100000:\n",
        "      self.ccabello=\"Rubio\"\n",
        "      self.cojos=\"Aguamarina\"\n",
        "    elif putisteria>=100000 and putisteria<200000:\n",
        "      self.ccabello=\"Rojo\"\n",
        "      self.cojos=\"Rosado\"\n",
        "    elif putisteria>=200000 and putisteria<500000:\n",
        "      self.ccabello=\"Azul\"\n",
        "      self.cojos=\"Azul\"\n",
        "    else:\n",
        "      self.ccabello=\"Negro\"\n",
        "      self.cojos=\"Negros\"\n",
        "  def trabajo(self,t):\n",
        "    if t==1: print(f\"{self.nombre} es guerrero\")\n",
        "    elif t==2: print(f\"{self.nombre} es soldado de Freezer\")\n",
        "    elif t==3: print(f\"{self.nombre} es mercenario\")\n",
        "    elif t==4: print(f\"{self.nombre} es granjero\")\n",
        "    else: print(f\"{self.nombre} es Nini\")"
      ]
    },
    {
      "cell_type": "code",
      "source": [
        "class Humano():\n",
        "  def __init__(self,nombre,ccabello,cojos,colamono,estatura):\n",
        "    self.nombre=nombre\n",
        "    self.ccabello=\"Negro\"\n",
        "    self.cojos=\"Negros\"\n",
        "    self.colamono=True\n",
        "    self.estatura=estatura\n",
        "  def cambio_pelo(self,putisteria):\n",
        "    if putisteria==1:\n",
        "      self.ccabello=\"Rubio\"\n",
        "      self.cojos=\"Aguamarina\"\n",
        "    elif putisteria==2:\n",
        "      self.ccabello=\"Rojo\"\n",
        "      self.cojos=\"Rosado\"\n",
        "    elif putisteria==3:\n",
        "      self.ccabello=\"Azul\"\n",
        "      self.cojos=\"Azul\"\n",
        "    else:\n",
        "      self.ccabello=\"Negro\"\n",
        "      self.cojos=\"Negros\"\n",
        "  def trabajo(self,t):\n",
        "    if t==1: print(f\"{self.nombre} es Inge\")\n",
        "    elif t==2: print(f\"{self.nombre} es Tombo\")\n",
        "    elif t==3: print(f\"{self.nombre} es de la Patrulla Roja\")\n",
        "    elif t==4: print(f\"{self.nombre} es granjero\")\n",
        "    else: print(f\"{self.nombre} es Nini\")"
      ],
      "metadata": {
        "id": "6TXwcXgBhe0T"
      },
      "execution_count": null,
      "outputs": []
    },
    {
      "cell_type": "code",
      "source": [
        "saiyano1=Saiyajin(\"Cucu\",\"Morado\",\"Blancos\",None,180)"
      ],
      "metadata": {
        "id": "vQxx9mSEhhFs"
      },
      "execution_count": 19,
      "outputs": []
    },
    {
      "cell_type": "code",
      "source": [
        "saiyano1.__dict__"
      ],
      "metadata": {
        "colab": {
          "base_uri": "https://localhost:8080/"
        },
        "id": "oqiZcRDLh2P4",
        "outputId": "f1693dd4-50fb-46a3-8e24-fd2eed9b9293"
      },
      "execution_count": 20,
      "outputs": [
        {
          "output_type": "execute_result",
          "data": {
            "text/plain": [
              "{'nombre': 'Cucu',\n",
              " 'ccabello': 'Negro',\n",
              " 'cojos': 'Negros',\n",
              " 'cola_mono': True,\n",
              " 'estatura': 180}"
            ]
          },
          "metadata": {},
          "execution_count": 20
        }
      ]
    },
    {
      "cell_type": "code",
      "source": [
        "class Hibrido(Saiyajin,Humano):\n",
        "  def __init__(self,ccabello,cojos):\n",
        "    super()(nombre,estatura)\n",
        "    self.ccabello=ccabello\n",
        "    self.cojos=cojos\n",
        "  def cambio_color(self,putisteria):\n",
        "    if putisteria>=10000000000 and putisteria<10000000000000000:\n",
        "      self.ccabello=\"Blanco\"\n",
        "      self.cojos=\"Rojo\""
      ],
      "metadata": {
        "id": "hNM1U5g_h2sd"
      },
      "execution_count": 21,
      "outputs": []
    },
    {
      "cell_type": "code",
      "source": [
        "class Perros():\n",
        "  def ladrar(self):\n",
        "    print(\"GUAUU GUAUU\")\n",
        "  def grunir(self):\n",
        "    print(\"GRRRR GRRRR\")"
      ],
      "metadata": {
        "id": "TKveiVMoiB0O"
      },
      "execution_count": null,
      "outputs": []
    },
    {
      "cell_type": "code",
      "source": [
        "class Pastor_Aleman(Perros):\n",
        "  def ladrar(self):\n",
        "    print(\"GUAUU GUAUU\")\n",
        "  def grunir(self):\n",
        "    print(\"AGRRRR AGRRRR\")"
      ],
      "metadata": {
        "id": "Kmng_fNijFKd"
      },
      "execution_count": null,
      "outputs": []
    },
    {
      "cell_type": "code",
      "source": [
        "class Caniche(Perros):\n",
        "  def ladrar(self):\n",
        "    print(\"GUAUU GUAUU GUAUU GUAUU\")\n",
        "  def grunir(self):\n",
        "    print(\"GÑIII GÑIII\")"
      ],
      "metadata": {
        "id": "wFbkVJlylVOD"
      },
      "execution_count": null,
      "outputs": []
    },
    {
      "cell_type": "code",
      "source": [
        "class Shepadoodle(Caniche,Pastor_Aleman):\n",
        "  def xladrar(self,veces):\n",
        "    for cuantas in range(veces):\n",
        "      super(Shepadoodle,self).ladrar()"
      ],
      "metadata": {
        "id": "aa90AxtelXoq"
      },
      "execution_count": null,
      "outputs": []
    },
    {
      "cell_type": "code",
      "source": [
        "Tommy=Pastor_Aleman()\n",
        "Lulu=Caniche()\n",
        "Milu=Shepadoodle()\n",
        "Milu.xladrar(2)"
      ],
      "metadata": {
        "colab": {
          "base_uri": "https://localhost:8080/"
        },
        "id": "JjKb0KkklYEr",
        "outputId": "7f04b50d-3c3d-4865-f863-f77a14191a95"
      },
      "execution_count": null,
      "outputs": [
        {
          "output_type": "stream",
          "name": "stdout",
          "text": [
            "GUAUU GUAUU GUAUU GUAUU\n",
            "GUAUU GUAUU GUAUU GUAUU\n"
          ]
        }
      ]
    },
    {
      "cell_type": "code",
      "source": [
        "class Asignar(list):\n",
        "  pass"
      ],
      "metadata": {
        "id": "BMvHMndXlmsM"
      },
      "execution_count": null,
      "outputs": []
    },
    {
      "cell_type": "code",
      "source": [
        "a=Asignar()"
      ],
      "metadata": {
        "id": "wxEauKzYlo_4"
      },
      "execution_count": null,
      "outputs": []
    },
    {
      "cell_type": "code",
      "source": [
        "a.append(4)"
      ],
      "metadata": {
        "id": "k60AGvmslpXu"
      },
      "execution_count": null,
      "outputs": []
    },
    {
      "cell_type": "code",
      "source": [
        "class Padre():\n",
        "  def __init__(self,ojos,cejas):\n",
        "    self.ojos=ojos\n",
        "    self.cejas=cejas\n",
        "class Hijo():\n",
        "  def __init__(self,ojos,cejas,cara):\n",
        "    self.ojos=ojos\n",
        "    self.cejas=cejas\n",
        "    self.cara=cara"
      ],
      "metadata": {
        "id": "vGoVtaIho4nH"
      },
      "execution_count": null,
      "outputs": []
    },
    {
      "cell_type": "code",
      "source": [
        "Manuel=Padre(\"Marron\",\"Miel\")\n",
        "Tomas=Hijo(\"Rubio\",\"Verde\",\"Larga\")\n",
        "print(Tomas.ojos,Tomas.cejas,Tomas.cara)"
      ],
      "metadata": {
        "colab": {
          "base_uri": "https://localhost:8080/"
        },
        "id": "3y6vwvgupAkf",
        "outputId": "97b0cd7e-72a2-48e9-dc7a-0d5e681e946c"
      },
      "execution_count": null,
      "outputs": [
        {
          "output_type": "stream",
          "name": "stdout",
          "text": [
            "Rubio Verde Larga\n"
          ]
        }
      ]
    },
    {
      "cell_type": "code",
      "source": [
        "class Abuelo():\n",
        "  def __init__(self,ojos,cejas):\n",
        "    self.ojos=ojos\n",
        "    self.cejas=cejas\n",
        "class Hijo2():\n",
        "  def __init__(self,ojos,cejas,cara):\n",
        "    super().__init__(ojos,cejas)\n",
        "    self.cara=cara"
      ],
      "metadata": {
        "id": "3IbKSbKAqdIH"
      },
      "execution_count": null,
      "outputs": []
    },
    {
      "cell_type": "code",
      "source": [
        "Abuelo=Abuelo(\"Negro\",\"Marron\")\n",
        "Mateo=Hijo2(\"Marron\",\"Verdes\",\"Gordita\")"
      ],
      "metadata": {
        "id": "U3qDc4_Nqg5L",
        "colab": {
          "base_uri": "https://localhost:8080/",
          "height": 287
        },
        "outputId": "7459407d-b731-4dba-ce35-54a622700ffd"
      },
      "execution_count": 17,
      "outputs": [
        {
          "output_type": "error",
          "ename": "TypeError",
          "evalue": "ignored",
          "traceback": [
            "\u001b[0;31m---------------------------------------------------------------------------\u001b[0m",
            "\u001b[0;31mTypeError\u001b[0m                                 Traceback (most recent call last)",
            "\u001b[0;32m<ipython-input-17-c250db08187a>\u001b[0m in \u001b[0;36m<module>\u001b[0;34m\u001b[0m\n\u001b[1;32m      1\u001b[0m \u001b[0mAbuelo\u001b[0m\u001b[0;34m=\u001b[0m\u001b[0mAbuelo\u001b[0m\u001b[0;34m(\u001b[0m\u001b[0;34m\"Negro\"\u001b[0m\u001b[0;34m,\u001b[0m\u001b[0;34m\"Marron\"\u001b[0m\u001b[0;34m)\u001b[0m\u001b[0;34m\u001b[0m\u001b[0;34m\u001b[0m\u001b[0m\n\u001b[0;32m----> 2\u001b[0;31m \u001b[0mMateo\u001b[0m\u001b[0;34m=\u001b[0m\u001b[0mHijo2\u001b[0m\u001b[0;34m(\u001b[0m\u001b[0;34m\"Marron\"\u001b[0m\u001b[0;34m,\u001b[0m\u001b[0;34m\"Verdes\"\u001b[0m\u001b[0;34m,\u001b[0m\u001b[0;34m\"Gordita\"\u001b[0m\u001b[0;34m)\u001b[0m\u001b[0;34m\u001b[0m\u001b[0;34m\u001b[0m\u001b[0m\n\u001b[0m",
            "\u001b[0;32m<ipython-input-16-7a7d795b401e>\u001b[0m in \u001b[0;36m__init__\u001b[0;34m(self, ojos, cejas, cara)\u001b[0m\n\u001b[1;32m      5\u001b[0m \u001b[0;32mclass\u001b[0m \u001b[0mHijo2\u001b[0m\u001b[0;34m(\u001b[0m\u001b[0;34m)\u001b[0m\u001b[0;34m:\u001b[0m\u001b[0;34m\u001b[0m\u001b[0;34m\u001b[0m\u001b[0m\n\u001b[1;32m      6\u001b[0m   \u001b[0;32mdef\u001b[0m \u001b[0m__init__\u001b[0m\u001b[0;34m(\u001b[0m\u001b[0mself\u001b[0m\u001b[0;34m,\u001b[0m\u001b[0mojos\u001b[0m\u001b[0;34m,\u001b[0m\u001b[0mcejas\u001b[0m\u001b[0;34m,\u001b[0m\u001b[0mcara\u001b[0m\u001b[0;34m)\u001b[0m\u001b[0;34m:\u001b[0m\u001b[0;34m\u001b[0m\u001b[0;34m\u001b[0m\u001b[0m\n\u001b[0;32m----> 7\u001b[0;31m     \u001b[0msuper\u001b[0m\u001b[0;34m(\u001b[0m\u001b[0;34m)\u001b[0m\u001b[0;34m.\u001b[0m\u001b[0m__init__\u001b[0m\u001b[0;34m(\u001b[0m\u001b[0mojos\u001b[0m\u001b[0;34m,\u001b[0m\u001b[0mcejas\u001b[0m\u001b[0;34m)\u001b[0m\u001b[0;34m\u001b[0m\u001b[0;34m\u001b[0m\u001b[0m\n\u001b[0m\u001b[1;32m      8\u001b[0m     \u001b[0mself\u001b[0m\u001b[0;34m.\u001b[0m\u001b[0mcara\u001b[0m\u001b[0;34m=\u001b[0m\u001b[0mcara\u001b[0m\u001b[0;34m\u001b[0m\u001b[0;34m\u001b[0m\u001b[0m\n",
            "\u001b[0;31mTypeError\u001b[0m: object.__init__() takes exactly one argument (the instance to initialize)"
          ]
        }
      ]
    }
  ]
}