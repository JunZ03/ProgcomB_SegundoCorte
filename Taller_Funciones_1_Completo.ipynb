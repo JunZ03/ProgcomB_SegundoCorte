{
  "nbformat": 4,
  "nbformat_minor": 0,
  "metadata": {
    "colab": {
      "provenance": [],
      "collapsed_sections": []
    },
    "kernelspec": {
      "name": "python3",
      "display_name": "Python 3"
    },
    "language_info": {
      "name": "python"
    }
  },
  "cells": [
    {
      "cell_type": "markdown",
      "source": [
        "#Taller Funciones python"
      ],
      "metadata": {
        "id": "_7DzhNN3cHpB"
      }
    },
    {
      "cell_type": "markdown",
      "source": [
        "##Punto1"
      ],
      "metadata": {
        "id": "YSusf6jqcNr5"
      }
    },
    {
      "cell_type": "code",
      "execution_count": null,
      "metadata": {
        "colab": {
          "base_uri": "https://localhost:8080/"
        },
        "id": "mxtU5J2kcEAR",
        "outputId": "9f8b71dd-5923-4103-8615-c026d4a5ccf9"
      },
      "outputs": [
        {
          "output_type": "stream",
          "name": "stdout",
          "text": [
            "Ingrese el primer número: 10\n",
            "Ingrese el segundo número: 10\n",
            "son iguales\n"
          ]
        }
      ],
      "source": [
        "def mayor(a,b):\n",
        "  if a>b:\n",
        "    print(\"El primer número es el mayor\")\n",
        "    \n",
        "  elif b>a:\n",
        "    print(\"El segundo número es mayor al primero\")\n",
        "    \n",
        "  else:\n",
        "    print(\"son iguales\")\n",
        "\n",
        "\n",
        "num1=int(input(\"Ingrese el primer número: \"))\n",
        "num2=int(input(\"Ingrese el segundo número: \"))\n",
        "\n",
        "mayor(num1,num2)"
      ]
    },
    {
      "cell_type": "markdown",
      "source": [
        "#Punto2"
      ],
      "metadata": {
        "id": "b3h566n8djzW"
      }
    },
    {
      "cell_type": "code",
      "source": [
        "def mayor2(a,b,c):\n",
        "  if a>b and a>c:\n",
        "    print(\"El primer número es el mayor\")\n",
        "  elif b>a and b>c:\n",
        "    print(\"El segundo número es el mayor\")\n",
        "  elif c>a and c>b:\n",
        "    print(\"El segundo número es el mayor\")\n",
        "  else:\n",
        "      print(\"son iguales los tres números\")\n",
        "\n",
        "\n",
        "num1=int(input(\"Ingrese el primer número: \"))\n",
        "num2=int(input(\"Ingrese el segundo número: \"))\n",
        "num3=int(input(\"Ingrese el tercer número: \"))\n",
        "\n",
        "mayor2(num1,num2,num3)"
      ],
      "metadata": {
        "colab": {
          "base_uri": "https://localhost:8080/"
        },
        "id": "KvN7E9egdp8f",
        "outputId": "8cba99b5-0509-4fef-c405-f51aab17e811"
      },
      "execution_count": null,
      "outputs": [
        {
          "output_type": "stream",
          "name": "stdout",
          "text": [
            "Ingrese el primer número: 8\n",
            "Ingrese el segundo número: 12\n",
            "Ingrese el tercer número: 6\n",
            "El segundo número es el mayor\n"
          ]
        }
      ]
    },
    {
      "cell_type": "markdown",
      "source": [
        "##Punto3"
      ],
      "metadata": {
        "id": "1gzCowophPei"
      }
    },
    {
      "cell_type": "code",
      "source": [
        "def sumar_lista(a,b,c):\n",
        "  milista=[a,b,c]\n",
        "  sumatoria=milista[0]+milista[1]+milista[2]\n",
        "  print(\"La suma de los elementos es: \",sumatoria)\n",
        "\n",
        "primero= int(input(\"Ingrese un número: \"))\n",
        "segundo= int(input(\"Ingrese un número: \"))\n",
        "tercero= int(input(\"Ingrese un número: \"))\n",
        "sumar_lista(primero,segundo,tercero)\n"
      ],
      "metadata": {
        "colab": {
          "base_uri": "https://localhost:8080/"
        },
        "id": "h23XMJrghd4o",
        "outputId": "7fb734fc-5910-43d0-8211-c38284cba5aa"
      },
      "execution_count": null,
      "outputs": [
        {
          "output_type": "stream",
          "name": "stdout",
          "text": [
            "Ingrese un número9\n",
            "Ingrese un número5\n",
            "Ingrese un número23\n",
            "La suma de los elementos es:  37\n"
          ]
        }
      ]
    },
    {
      "cell_type": "markdown",
      "source": [
        "##Punto 4"
      ],
      "metadata": {
        "id": "7atI1VqjkMtU"
      }
    },
    {
      "cell_type": "code",
      "source": [
        "def sumar_lista(a,b,c,d):\n",
        "  milista=[a,b,c,d]\n",
        "  sumatoria=milista[0]+milista[1]+milista[2]+milista[3]\n",
        "  print(\"La suma de los elementos es: \",sumatoria)\n",
        "\n",
        "primero= int(input(\"Ingrese un número: \"))\n",
        "segundo= int(input(\"Ingrese un número: \"))\n",
        "tercero= int(input(\"Ingrese un número: \"))\n",
        "cuarto= int(input(\"Ingrese un número: \"))\n",
        "sumar_lista(primero,segundo,tercero,cuarto)"
      ],
      "metadata": {
        "colab": {
          "base_uri": "https://localhost:8080/"
        },
        "id": "CyVScYndkOl0",
        "outputId": "da7d5877-c54b-4b2b-a49c-76f04142d0b2"
      },
      "execution_count": null,
      "outputs": [
        {
          "output_type": "stream",
          "name": "stdout",
          "text": [
            "Ingrese un número: 6\n",
            "Ingrese un número: 34\n",
            "Ingrese un número: 45\n",
            "Ingrese un número: 8\n",
            "La suma de los elementos es:  93\n"
          ]
        }
      ]
    },
    {
      "cell_type": "markdown",
      "source": [
        "#Punto5"
      ],
      "metadata": {
        "id": "5HDwAHaGko3E"
      }
    },
    {
      "cell_type": "code",
      "source": [
        "def sumar_listan(n):\n",
        "  listan=[]\n",
        "  sumlist=0\n",
        "  for i in range(0,n):\n",
        "    numero=int(input(\"Ingrese un número: \"))\n",
        "    listan.append(numero)\n",
        "    sumlist= sumlist+ listan[i]\n",
        "  print(listan)\n",
        "  print(sumlist)\n",
        "\n",
        "\n",
        "\n",
        "tamaño=int(input(\"ingrese el tamaño de su lista: \"))\n",
        "\n",
        "sumar_listan(tamaño)"
      ],
      "metadata": {
        "colab": {
          "base_uri": "https://localhost:8080/"
        },
        "id": "cwupz0z_ksU8",
        "outputId": "683672b1-03a9-4fae-8a42-4d8a278cecc3"
      },
      "execution_count": null,
      "outputs": [
        {
          "output_type": "stream",
          "name": "stdout",
          "text": [
            "ingrese un número: 4\n",
            "Ingrese un número: 5\n",
            "Ingrese un número: 4\n",
            "Ingrese un número: 6\n",
            "Ingrese un número: 3\n",
            "[5, 4, 6, 3]\n",
            "18\n"
          ]
        }
      ]
    },
    {
      "cell_type": "markdown",
      "source": [
        "#Punto6"
      ],
      "metadata": {
        "id": "ZB1OEbUIr_aq"
      }
    },
    {
      "cell_type": "code",
      "source": [
        "def mult_lista(a,b,c):\n",
        "  milista=[a,b,c]\n",
        "  sumatoria=milista[0]*milista[1]*milista[2]\n",
        "  print(\"el producto de los elementos es: \",sumatoria)\n",
        "\n",
        "primero= int(input(\"Ingrese un número: \"))\n",
        "segundo= int(input(\"Ingrese un número: \"))\n",
        "tercero= int(input(\"Ingrese un número: \"))\n",
        "mult_lista(primero,segundo,tercero)"
      ],
      "metadata": {
        "colab": {
          "base_uri": "https://localhost:8080/"
        },
        "id": "2dTDSfWOsA5K",
        "outputId": "b7d15d29-e632-40ab-fbe2-6c9ade9ca305"
      },
      "execution_count": null,
      "outputs": [
        {
          "output_type": "stream",
          "name": "stdout",
          "text": [
            "Ingrese un número: 4\n",
            "Ingrese un número: 6\n",
            "Ingrese un número: 2\n",
            "La suma de los elementos es:  48\n"
          ]
        }
      ]
    },
    {
      "cell_type": "markdown",
      "source": [
        "#Punto7"
      ],
      "metadata": {
        "id": "vg37GBtIsdmA"
      }
    },
    {
      "cell_type": "code",
      "source": [
        "def multiplicacion_lista(a,b,c,d):\n",
        "  milista=[a,b,c,d]\n",
        "  sumatoria=milista[0]*milista[1]*milista[2]*milista[3]\n",
        "  print(\"La multiplicación de los elementos es: \",sumatoria)\n",
        "\n",
        "primero= int(input(\"Ingrese un número: \"))\n",
        "segundo= int(input(\"Ingrese un número: \"))\n",
        "tercero= int(input(\"Ingrese un número: \"))\n",
        "cuarto= int(input(\"Ingrese un número: \"))\n",
        "multiplicacion_lista(primero,segundo,tercero,cuarto)"
      ],
      "metadata": {
        "colab": {
          "base_uri": "https://localhost:8080/"
        },
        "id": "03D2mdOJsiuA",
        "outputId": "a11c1251-8c6f-4371-af1f-86180694e1e9"
      },
      "execution_count": null,
      "outputs": [
        {
          "output_type": "stream",
          "name": "stdout",
          "text": [
            "Ingrese un número: 5\n",
            "Ingrese un número: 2\n",
            "Ingrese un número: 3\n",
            "Ingrese un número: 5\n",
            "La multiplicación de los elementos es:  150\n"
          ]
        }
      ]
    },
    {
      "cell_type": "markdown",
      "source": [
        "#Punto8"
      ],
      "metadata": {
        "id": "jretSBpzs9-3"
      }
    },
    {
      "cell_type": "code",
      "source": [
        "def producto_listan(n):\n",
        "  listan=[]\n",
        "  multlist=1\n",
        "  for i in range(0,n):\n",
        "    numero=int(input(\"Ingrese un número: \"))\n",
        "    listan.append(numero)\n",
        "    multlist= multlist* listan[i]\n",
        "  print(listan)\n",
        "  print(\"El producto de los elementos de la lista es: \",multlist)\n",
        "\n",
        "\n",
        "\n",
        "tamaño=int(input(\"ingrese el tamaño de su lista: \"))\n",
        "\n",
        "producto_listan(tamaño)"
      ],
      "metadata": {
        "colab": {
          "base_uri": "https://localhost:8080/"
        },
        "id": "rMfFUjWRs_jH",
        "outputId": "959696f8-4764-4e7e-b6a9-d51bf31fff2b"
      },
      "execution_count": null,
      "outputs": [
        {
          "output_type": "stream",
          "name": "stdout",
          "text": [
            "ingrese el tamaño de su lista: 5\n",
            "Ingrese un número: 2\n",
            "Ingrese un número: 3\n",
            "Ingrese un número: 4\n",
            "Ingrese un número: 1\n",
            "Ingrese un número: 4\n",
            "[2, 3, 4, 1, 4]\n",
            "El producto de los elementos de la lista es:  96\n"
          ]
        }
      ]
    },
    {
      "cell_type": "markdown",
      "source": [
        "#Punto9"
      ],
      "metadata": {
        "id": "5oLt7FZMxKKC"
      }
    },
    {
      "cell_type": "code",
      "source": [
        "def inversopalabra(Str):\n",
        "  caracteres=len(Str)\n",
        "  inverso= Str[caracteres::-1]\n",
        "  print(inverso)\n",
        "\n",
        "elemento=str(input(\"Introduce la palabra que deseas invertir: \"))\n",
        "\n",
        "inversopalabra(elemento)"
      ],
      "metadata": {
        "colab": {
          "base_uri": "https://localhost:8080/"
        },
        "id": "IbFlEIRIxLia",
        "outputId": "abd4eaa7-b763-4bf8-fd51-3cc93b2aece8"
      },
      "execution_count": null,
      "outputs": [
        {
          "output_type": "stream",
          "name": "stdout",
          "text": [
            "Introduce la palabra que deseas invertirperico\n",
            "ocirep\n"
          ]
        }
      ]
    },
    {
      "cell_type": "markdown",
      "source": [
        "#Punto10"
      ],
      "metadata": {
        "id": "2CZV-PJbt3ym"
      }
    },
    {
      "cell_type": "code",
      "source": [
        "def factorial(n):\n",
        "  \n",
        "  multlist=1\n",
        "  for i in range(0,n):\n",
        "    multlist= multlist* (i+1)\n",
        "  print(\"El producto de los elementos de la lista es: \",multlist)\n",
        "\n",
        "\n",
        "\n",
        "tamaño=int(input(\"¿De que numero desea saber su factorial?: \"))\n",
        "\n",
        "factorial(tamaño)"
      ],
      "metadata": {
        "colab": {
          "base_uri": "https://localhost:8080/"
        },
        "id": "Im4A1o1ft5iu",
        "outputId": "7a8622fd-e28d-42ee-e937-1da6a351c9b3"
      },
      "execution_count": null,
      "outputs": [
        {
          "output_type": "stream",
          "name": "stdout",
          "text": [
            "¿De que numero desea saber su factorial?: 9\n",
            "El producto de los elementos de la lista es:  362880\n"
          ]
        }
      ]
    },
    {
      "cell_type": "markdown",
      "source": [
        "#Punto 11"
      ],
      "metadata": {
        "id": "MSZAlaRoEaZe"
      }
    },
    {
      "cell_type": "code",
      "source": [
        "def rango(inicio,final,elemento):\n",
        "  if inicio< final:\n",
        "    if elemento>=inicio and elemento<=final:\n",
        "      print(\"El número \",elemento,\" hace parte del rango cerrado\")\n",
        "      condicion=True\n",
        "    else:\n",
        "      print(\"El número no hace parte del rango establecido\")\n",
        "      condicion=False\n",
        "  else:\n",
        "    if elemento>=final and elemento<=inicio:\n",
        "      print(\"El número \",elemento,\" hace parte del rango cerrado\")\n",
        "      condicion=True\n",
        "    else:\n",
        "      print(\"El número no hace parte del rango establecido\")\n",
        "      condicion=False\n",
        "  return(condicion)\n",
        "  \n",
        "numero=int(input(\"Ingrese el número que desea comprobar si esta dentro del rango cerrado\"))\n",
        "rangoi=int(input(\"Ingrese el número inicial del rango cerrado\"))\n",
        "rangof=int(input(\"Ingrese el número final del rango cerrado\"))\n",
        "\n",
        "\n",
        "rango(rangoi,rangof,numero)\n"
      ],
      "metadata": {
        "colab": {
          "base_uri": "https://localhost:8080/"
        },
        "id": "zvRv-CE3EcHd",
        "outputId": "92244f72-09b4-47cf-8ebc-9836480d525b"
      },
      "execution_count": null,
      "outputs": [
        {
          "output_type": "stream",
          "name": "stdout",
          "text": [
            "Ingrese el número inicial del rango cerrado13\n",
            "Ingrese el número final del rango cerrado-5\n",
            "Ingrese el número que desea comprobar si esta dentro del rango cerrado7\n",
            "El número  7  hace parte del rango cerrado\n"
          ]
        },
        {
          "output_type": "execute_result",
          "data": {
            "text/plain": [
              "True"
            ]
          },
          "metadata": {},
          "execution_count": 5
        }
      ]
    },
    {
      "cell_type": "markdown",
      "source": [
        "##Punto 12"
      ],
      "metadata": {
        "id": "aTo_92m_J6bz"
      }
    },
    {
      "cell_type": "code",
      "source": [
        "\n",
        "def separarpalabra(a):\n",
        "  mayus=0\n",
        "  minus=0\n",
        "  for i in range(len(a)):\n",
        "    c=a[i]\n",
        "    if c==c.lower():\n",
        "      minus+=1\n",
        "    else:\n",
        "      mayus+=1\n",
        "  print(\"Hay \",mayus,\"mayúsculas y \",minus,\" minúsculas\")\n",
        "  return(mayus,minus)\n",
        "   \n",
        "\n",
        "palabra=str(input(\"Ingrese la palabra a examinar: \"))\n",
        "separarpalabra(palabra)"
      ],
      "metadata": {
        "colab": {
          "base_uri": "https://localhost:8080/"
        },
        "id": "j4646cqGJ76i",
        "outputId": "1d5a8fdb-6d36-4a6a-9ced-2b6cf82295c4"
      },
      "execution_count": null,
      "outputs": [
        {
          "output_type": "stream",
          "name": "stdout",
          "text": [
            "Ingrese la palabra a examinar: Autonomia\n",
            "Hay  1 mayúsculas y  8  minúsculas\n"
          ]
        },
        {
          "output_type": "execute_result",
          "data": {
            "text/plain": [
              "(1, 8)"
            ]
          },
          "metadata": {},
          "execution_count": 10
        }
      ]
    },
    {
      "cell_type": "markdown",
      "source": [
        "#Punto 13"
      ],
      "metadata": {
        "id": "4x_Xs4lLOYyW"
      }
    },
    {
      "cell_type": "code",
      "source": [
        "def separarpalabralista(a):\n",
        "  diccionario={\"mayúsculas\":0,\"minúsculas\":0}\n",
        "  for i in range(len(a)):\n",
        "    c=a[i]\n",
        "    if c==c.lower():\n",
        "      diccionario[\"minúsculas\"]+=1\n",
        "    else:\n",
        "      diccionario[\"mayúsculas\"]+=1\n",
        "  \n",
        "  return(diccionario)\n",
        "   \n",
        "\n",
        "palabra=str(input(\"Ingrese la palabra a examinar: \"))\n",
        "separarpalabralista(palabra)"
      ],
      "metadata": {
        "colab": {
          "base_uri": "https://localhost:8080/"
        },
        "id": "nr88m4S_Obkm",
        "outputId": "df5a8eb9-2b50-46f6-bd6d-c5d3c41cacc3"
      },
      "execution_count": null,
      "outputs": [
        {
          "name": "stdout",
          "output_type": "stream",
          "text": [
            "Ingrese la palabra a examinar: El miércoles próximo abordaremos en la siguiente sesión el concepto de identidad nacional e iniciaremos el trabajo tendiente a la construcción de un texto autobiográfico.\n"
          ]
        },
        {
          "output_type": "execute_result",
          "data": {
            "text/plain": [
              "{'mayúsculas': 1, 'minúsculas': 169}"
            ]
          },
          "metadata": {},
          "execution_count": 15
        }
      ]
    },
    {
      "cell_type": "markdown",
      "source": [
        "#Punto14\n"
      ],
      "metadata": {
        "id": "czd2n20YQ4k4"
      }
    },
    {
      "cell_type": "code",
      "source": [
        "\n",
        "def detectorpares(a):\n",
        "  listapares=[]\n",
        "  listaimpares=[]\n",
        "  for i in range(len(a)):\n",
        "    c=a[i]\n",
        "    if c%2==0:\n",
        "      listapares.append(c)\n",
        "\n",
        "    else:\n",
        "      listaimpares.append(c)\n",
        "  \n",
        "  return(listapares)\n",
        "\n",
        "\n",
        "def pedirnumeros():\n",
        "  listado_numerico=[]\n",
        "  while True:\n",
        "   numero=int(input(\"Ingrese un número: \"))\n",
        "   listado_numerico.append(numero) \n",
        "   confirmador=str(input(\"¿Desea agregar mas números sí o no?: \"))\n",
        "   confirmador.lower()\n",
        "   if confirmador == \"no\":\n",
        "     break\n",
        "   \n",
        "  return(listado_numerico)\n",
        "\n",
        "\n",
        "  \n",
        "\n",
        "detectorpares(pedirnumeros())\n"
      ],
      "metadata": {
        "colab": {
          "base_uri": "https://localhost:8080/"
        },
        "id": "FZQv19fHRXn_",
        "outputId": "e3c8eb7b-f0f6-4651-a781-05a3e9c535dd"
      },
      "execution_count": null,
      "outputs": [
        {
          "name": "stdout",
          "output_type": "stream",
          "text": [
            "Ingrese un número: 6\n",
            "¿Desea agregar mas números sí o no?si\n",
            "Ingrese un número: 8\n",
            "¿Desea agregar mas números sí o no?si\n",
            "Ingrese un número: 56\n",
            "¿Desea agregar mas números sí o no?si\n",
            "Ingrese un número: 73\n",
            "¿Desea agregar mas números sí o no?si\n",
            "Ingrese un número: 41\n",
            "¿Desea agregar mas números sí o no?si\n",
            "Ingrese un número: 264\n",
            "¿Desea agregar mas números sí o no?no\n"
          ]
        },
        {
          "output_type": "execute_result",
          "data": {
            "text/plain": [
              "[6, 8, 56, 264]"
            ]
          },
          "metadata": {},
          "execution_count": 16
        }
      ]
    },
    {
      "cell_type": "markdown",
      "source": [
        "#Punto 15"
      ],
      "metadata": {
        "id": "A-L-o-HGVjAt"
      }
    },
    {
      "cell_type": "code",
      "source": [
        "def caracteresimp(a):\n",
        "  elemimpar=[]\n",
        "  for i in range(len(a)):\n",
        "    c=a[i]\n",
        "    if i%2==0:\n",
        "      elemimpar.append(c)\n",
        "    else:\n",
        "      1\n",
        "  return(elemimpar)\n",
        "   \n",
        "\n",
        "\n",
        "def pedirdatos():\n",
        "  listado_=[]\n",
        "  while True:\n",
        "   datazo=input(\"Ingrese el elemento que desea agregar: \")\n",
        "   listado_.append(datazo) \n",
        "   confirmador=str(input(\"¿Desea agregar mas elementos sí o no?: \"))\n",
        "   confirmador.lower()\n",
        "   if confirmador == \"no\":\n",
        "     break\n",
        "   else:\n",
        "     1\n",
        "  return(listado_)\n",
        "\n",
        "caracteresimp(pedirdatos())"
      ],
      "metadata": {
        "colab": {
          "base_uri": "https://localhost:8080/"
        },
        "id": "EyJ2X2PkWKp8",
        "outputId": "2d47dedc-28ab-4248-942b-5e49f1961586"
      },
      "execution_count": null,
      "outputs": [
        {
          "name": "stdout",
          "output_type": "stream",
          "text": [
            "Ingrese el elemento que desea agregar: fjsdjsdfj\n",
            "¿Desea agregar mas elementos sí o no?: si\n",
            "Ingrese el elemento que desea agregar: AJSIDSAH\n",
            "¿Desea agregar mas elementos sí o no?: si\n",
            "Ingrese el elemento que desea agregar: hola buenas tardes\n",
            "¿Desea agregar mas elementos sí o no?: si\n",
            "Ingrese el elemento que desea agregar: felipe\n",
            "¿Desea agregar mas elementos sí o no?: si\n",
            "Ingrese el elemento que desea agregar: petrosky\n",
            "¿Desea agregar mas elementos sí o no?: no\n"
          ]
        },
        {
          "output_type": "execute_result",
          "data": {
            "text/plain": [
              "['fjsdjsdfj', 'hola buenas tardes', 'petrosky']"
            ]
          },
          "metadata": {},
          "execution_count": 21
        }
      ]
    },
    {
      "cell_type": "markdown",
      "source": [
        "#Punto 16"
      ],
      "metadata": {
        "id": "sIRIXHWoeW1q"
      }
    },
    {
      "cell_type": "code",
      "source": [
        "\n",
        "def Num_perfecto(a):\n",
        "  p=0\n",
        "  for i in range(1,a):\n",
        "    if a%i==0:\n",
        "      p+=i\n",
        "  if a==p:\n",
        "    print(a,\" es un número perfecto\")\n",
        "  else:\n",
        "    print(a,\" no es un número perfecto\")\n",
        "\n",
        "cifra=int(input(\"¿Quieres saber si un número es perfecto? por favor ingresa el número a analizar: \")) \n",
        "Num_perfecto(cifra)\n",
        "\n"
      ],
      "metadata": {
        "colab": {
          "base_uri": "https://localhost:8080/"
        },
        "id": "hifbzu-8eYVi",
        "outputId": "a1551b62-e723-4e45-ee92-c15be05ac486"
      },
      "execution_count": null,
      "outputs": [
        {
          "output_type": "stream",
          "name": "stdout",
          "text": [
            "¿Quieres saber si un número es perfecto? por favor ingresa el número a analizar: 58382\n",
            "58382  no es un número perfecto\n"
          ]
        }
      ]
    },
    {
      "cell_type": "markdown",
      "source": [
        "#Punto 17"
      ],
      "metadata": {
        "id": "ZGF2sORPbXt3"
      }
    },
    {
      "cell_type": "code",
      "source": [
        "def palindromo(p):\n",
        "  p=p.upper()\n",
        "\n",
        "  if (p) == (p)[::-1] :\n",
        "      print(\"Es un palíndromo\")\n",
        "      pal=True\n",
        "  else:\n",
        "      print(\"No es un palíndromo\")\n",
        "      pal=False\n",
        "  return pal\n",
        "\n",
        "palabras=str(input(\"Ingrese una palabra la cual verificamos que sea palíndromo o no: \"))\n",
        "palindromo(palabras)"
      ],
      "metadata": {
        "id": "lGSGuvIIbasO",
        "colab": {
          "base_uri": "https://localhost:8080/"
        },
        "outputId": "5dedc2af-eb5e-4733-fca8-97cf5fce796c"
      },
      "execution_count": null,
      "outputs": [
        {
          "output_type": "stream",
          "name": "stdout",
          "text": [
            "Ingrese una palabra la cual verificamos que sea palíndromo o no: Girafarig\n",
            "Es un palíndromo\n"
          ]
        },
        {
          "output_type": "execute_result",
          "data": {
            "text/plain": [
              "True"
            ]
          },
          "metadata": {},
          "execution_count": 23
        }
      ]
    },
    {
      "cell_type": "markdown",
      "source": [
        "#Punto 19"
      ],
      "metadata": {
        "id": "Ili-e-T9hLZL"
      }
    },
    {
      "cell_type": "code",
      "source": [
        "def oracion(a):\n",
        "  a=a.lower()\n",
        "  nueva_oracion=[]\n",
        "  for i in range(len(a)):\n",
        "    c=a[i]\n",
        "    if c==c.lower() and i==0:\n",
        "      \n",
        "      c.remove()\n",
        "  print(a,end=\".\")\n",
        "\n",
        "oraciones=str(input(\"ingrese una oración: \"))\n",
        "oracion(oraciones)\n",
        "  "
      ],
      "metadata": {
        "colab": {
          "base_uri": "https://localhost:8080/",
          "height": 356
        },
        "id": "TVpYLL1uhnjD",
        "outputId": "8322d981-5fad-4a13-d46a-eb9379c2340c"
      },
      "execution_count": null,
      "outputs": [
        {
          "name": "stdout",
          "output_type": "stream",
          "text": [
            "ingrese una oración: hola muy buenos días\n"
          ]
        },
        {
          "output_type": "error",
          "ename": "AttributeError",
          "evalue": "ignored",
          "traceback": [
            "\u001b[0;31m---------------------------------------------------------------------------\u001b[0m",
            "\u001b[0;31mAttributeError\u001b[0m                            Traceback (most recent call last)",
            "\u001b[0;32m<ipython-input-43-14bc1a586da3>\u001b[0m in \u001b[0;36m<module>\u001b[0;34m\u001b[0m\n\u001b[1;32m     10\u001b[0m \u001b[0;34m\u001b[0m\u001b[0m\n\u001b[1;32m     11\u001b[0m \u001b[0moraciones\u001b[0m\u001b[0;34m=\u001b[0m\u001b[0mstr\u001b[0m\u001b[0;34m(\u001b[0m\u001b[0minput\u001b[0m\u001b[0;34m(\u001b[0m\u001b[0;34m\"ingrese una oración: \"\u001b[0m\u001b[0;34m)\u001b[0m\u001b[0;34m)\u001b[0m\u001b[0;34m\u001b[0m\u001b[0;34m\u001b[0m\u001b[0m\n\u001b[0;32m---> 12\u001b[0;31m \u001b[0moracion\u001b[0m\u001b[0;34m(\u001b[0m\u001b[0moraciones\u001b[0m\u001b[0;34m)\u001b[0m\u001b[0;34m\u001b[0m\u001b[0;34m\u001b[0m\u001b[0m\n\u001b[0m\u001b[1;32m     13\u001b[0m \u001b[0;34m\u001b[0m\u001b[0m\n",
            "\u001b[0;32m<ipython-input-43-14bc1a586da3>\u001b[0m in \u001b[0;36moracion\u001b[0;34m(a)\u001b[0m\n\u001b[1;32m      6\u001b[0m     \u001b[0mc\u001b[0m\u001b[0;34m=\u001b[0m\u001b[0ma\u001b[0m\u001b[0;34m[\u001b[0m\u001b[0mi\u001b[0m\u001b[0;34m]\u001b[0m\u001b[0;34m\u001b[0m\u001b[0;34m\u001b[0m\u001b[0m\n\u001b[1;32m      7\u001b[0m     \u001b[0;32mif\u001b[0m \u001b[0mc\u001b[0m\u001b[0;34m==\u001b[0m\u001b[0mc\u001b[0m\u001b[0;34m.\u001b[0m\u001b[0mlower\u001b[0m\u001b[0;34m(\u001b[0m\u001b[0;34m)\u001b[0m \u001b[0;32mand\u001b[0m \u001b[0mi\u001b[0m\u001b[0;34m==\u001b[0m\u001b[0;36m0\u001b[0m\u001b[0;34m:\u001b[0m\u001b[0;34m\u001b[0m\u001b[0;34m\u001b[0m\u001b[0m\n\u001b[0;32m----> 8\u001b[0;31m       \u001b[0mc\u001b[0m\u001b[0;34m.\u001b[0m\u001b[0mremove\u001b[0m\u001b[0;34m(\u001b[0m\u001b[0;34m)\u001b[0m\u001b[0;34m\u001b[0m\u001b[0;34m\u001b[0m\u001b[0m\n\u001b[0m\u001b[1;32m      9\u001b[0m   \u001b[0mprint\u001b[0m\u001b[0;34m(\u001b[0m\u001b[0ma\u001b[0m\u001b[0;34m,\u001b[0m\u001b[0mend\u001b[0m\u001b[0;34m=\u001b[0m\u001b[0;34m\".\"\u001b[0m\u001b[0;34m)\u001b[0m\u001b[0;34m\u001b[0m\u001b[0;34m\u001b[0m\u001b[0m\n\u001b[1;32m     10\u001b[0m \u001b[0;34m\u001b[0m\u001b[0m\n",
            "\u001b[0;31mAttributeError\u001b[0m: 'str' object has no attribute 'remove'"
          ]
        }
      ]
    }
  ]
}