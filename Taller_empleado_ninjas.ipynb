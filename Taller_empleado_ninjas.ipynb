{
  "nbformat": 4,
  "nbformat_minor": 0,
  "metadata": {
    "colab": {
      "provenance": [],
      "collapsed_sections": []
    },
    "kernelspec": {
      "name": "python3",
      "display_name": "Python 3"
    },
    "language_info": {
      "name": "python"
    }
  },
  "cells": [
    {
      "cell_type": "code",
      "execution_count": null,
      "metadata": {
        "colab": {
          "base_uri": "https://localhost:8080/"
        },
        "id": "pG5txxhhMCPh",
        "outputId": "37d75a08-6af4-4fd8-e813-807d075becf8"
      },
      "outputs": [
        {
          "output_type": "stream",
          "name": "stdout",
          "text": [
            "Juan Rodriguez\n"
          ]
        }
      ],
      "source": [
        "class Persona:\n",
        "  def __init__(self,nom,ape):\n",
        "    self.nombre=nom\n",
        "    self.apellido=ape\n",
        "  def __str__(self):\n",
        "    cadena=self.nombre+\" \"+self.apellido\n",
        "    return cadena\n",
        "\n",
        "persona1=Persona(\"Juan\",\"Rodriguez\")\n",
        "print(persona1)"
      ]
    },
    {
      "cell_type": "markdown",
      "source": [
        "#TALLER"
      ],
      "metadata": {
        "id": "2j-Zd-saSqnD"
      }
    },
    {
      "cell_type": "markdown",
      "source": [
        "**Ejercicio 1**:\n",
        "Crear una clase que represente un empleado. Definir como atributos su nombre y su sueldo. En el método __init__ cargar los atributos por teclado, es decir, permitir que el usuario ingrese estos atributos, y luego en otro método imprimir sus datos y por último uno que imprima un mensaje si debe pagar impuestos (si el sueldo supera a 8000)\n"
      ],
      "metadata": {
        "id": "jlegRMQOS_Wj"
      }
    },
    {
      "cell_type": "code",
      "source": [
        "class Empleado:\n",
        "    def __init__(self,nombre,salario):\n",
        "        self.nombre=nombre\n",
        "        self.salario=salario\n",
        "\n",
        "    def __str__(self):\n",
        "      if salario>=8000:\n",
        "        return\"El empleado\"+\" \"+str(self.nombre)+\" \"+\"debe pagar impuestos porque tiene un salario de\"+\" \"+str(self.salario)\n",
        "      else:\n",
        "        return\"El empleado\"+\" \"+str(self.nombre)+\" \"+\"no debe pagar impuestos porque tiene un salario de\"+\" \"+str(self.salario)\n",
        "       \n",
        "\n",
        "nombre=str(input(\"Ingrese su nombre: \"))\n",
        "salario=int(input(\"Ingrese su salario: \"))\n",
        "\n",
        "empleado1=Empleado(nombre,salario)\n",
        "print(empleado1)"
      ],
      "metadata": {
        "id": "M5OoOWGjSqKM",
        "colab": {
          "base_uri": "https://localhost:8080/"
        },
        "outputId": "4485f6a0-13b7-4014-b4a7-6f39a79f0f79"
      },
      "execution_count": null,
      "outputs": [
        {
          "output_type": "stream",
          "name": "stdout",
          "text": [
            "Ingrese su nombre: Adrian\n",
            "Ingrese su salario: 1000000\n",
            "El empleado Adrian debe pagar impuestos porque tiene un salario de 1000000\n"
          ]
        }
      ]
    },
    {
      "cell_type": "markdown",
      "source": [
        "**Ejercicio 2**\n",
        "Define una clase con el nombre Ninjas la cual tenga un método __init__ con los siguientes\n",
        "atributos:\n",
        "- hp (Esta sería la vida)\n",
        "- resistencia\n",
        "- xp (Esta sería la experiencia)\n",
        "- vidas\n",
        "\n",
        "Con un método __str__ imprímelos en el siguiente orden:\n",
        "- hp: (Su vida actual)\n",
        "- resistencia: (Su resistencia)\n",
        "- xp: (Su experiencia)\n",
        "- vidas: (Sus vidas)"
      ],
      "metadata": {
        "id": "ZLzy7bmXYYTs"
      }
    },
    {
      "cell_type": "code",
      "source": [
        "class Ninjas:\n",
        "  def __init__(self,hp,resistencia,xp,vidas):\n",
        "    self.hp=hp\n",
        "    self.resistencia=resistencia\n",
        "    self.xp=xp\n",
        "    self.vidas=vidas\n",
        "  \n",
        "  def __str__(self):\n",
        "    return \"El ninja tiene: \\n\"+\"Hp:\"+str(self.hp)+\"\\nResistencia:\"+str(self.resistencia)+\"\\nXp:\"+str(self.xp)+\"\\nVidas:\"+str(self.vidas)\n",
        "  \n",
        "hp=int(input(\"Ingrese su nivel de vida: \"))\n",
        "resistencia=int(input(\"Ingrese su resistencia: \"))\n",
        "xp=int(input(\"Ingrese su xp: \"))\n",
        "vidas=int(input(\"Ingrese su cantidad de vidas: \"))\n",
        "\n",
        "ninja1=Ninjas(hp,resistencia,xp,vidas)\n",
        "print(ninja1)"
      ],
      "metadata": {
        "colab": {
          "base_uri": "https://localhost:8080/"
        },
        "id": "zzGmitK1YXLc",
        "outputId": "d910be25-2aca-49aa-f1ba-6d5924d6cc70"
      },
      "execution_count": null,
      "outputs": [
        {
          "output_type": "stream",
          "name": "stdout",
          "text": [
            "Ingrese su nivel de vida: 400\n",
            "Ingrese su resistencia: 100\n",
            "Ingrese su xp: 20000\n",
            "Ingrese su cantidad de vidas: 14\n",
            "El ninja tiene: \n",
            "Hp:400\n",
            "Resistencia:100\n",
            "Xp:20000\n",
            "Vidas:14\n"
          ]
        }
      ]
    }
  ]
}