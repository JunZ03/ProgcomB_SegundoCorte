{
  "nbformat": 4,
  "nbformat_minor": 0,
  "metadata": {
    "colab": {
      "provenance": []
    },
    "kernelspec": {
      "name": "python3",
      "display_name": "Python 3"
    },
    "language_info": {
      "name": "python"
    }
  },
  "cells": [
    {
      "cell_type": "code",
      "execution_count": 11,
      "metadata": {
        "colab": {
          "base_uri": "https://localhost:8080/"
        },
        "id": "lvbxc8Df7HZ6",
        "outputId": "d9e831f1-8dfc-4779-92dd-52fbdcdb5da3"
      },
      "outputs": [
        {
          "output_type": "stream",
          "name": "stdout",
          "text": [
            "}-----------------------------------{\n",
            "Ingrese el nombre: juan\n",
            "Ingrese la edad: 12\n",
            "Ingrese la altura en centímetros: 128\n",
            "¿Qué quiere hacer? [Truco o trato]\n",
            "Ingrese la acción que desea realizar: trato\n",
            "11 dulces\n",
            "🍫🧁🍬🍬🧁🍫🍫🍭🍫🧁🧁\n",
            "{'nombre': 'Juan', 'edad': 12, 'altura': 128}\n",
            "}-----------------------------------{\n",
            "¿Hay más personas pidiendo dulces?\n",
            "Si->s / No->n: n\n",
            "Hasta la próxima\n"
          ]
        }
      ],
      "source": [
        "import random\n",
        "import math\n",
        "emojis=\"🍭🍬🍫🧁\"\n",
        "\n",
        "class Dulce_o_Truco():\n",
        "  def __init__(self,nombre,edad,altura,):\n",
        "    self.nombre=nombre\n",
        "    self.edad=edad\n",
        "    self.altura=altura\n",
        " \n",
        "  def opcion(self,accion):\n",
        "    if accion==\"truco\":\n",
        "      print(\"No hay dulces para ti\")\n",
        "      print(n1.__dict__)\n",
        "    elif accion==\"trato\":\n",
        "      contador=0\n",
        "      for i in self.nombre:\n",
        "        contador+=1\n",
        "      if self.edad>=10:\n",
        "        contador+=3\n",
        "      else:\n",
        "        contador+=math.floor(self.edad/3)\n",
        "      if self.altura>=150:\n",
        "        contador+=6\n",
        "      else:\n",
        "            contador+=2*math.floor(self.altura/50)\n",
        "\n",
        "      print(f'{contador} dulces')\n",
        "      print(\"\".join(random.choice(emojis) for i in range(contador)))\n",
        "      print(n1.__dict__)\n",
        "\n",
        "#------------------------------------------------------------------------------#\n",
        "\n",
        "while True:\n",
        "  print(\"}-----------------------------------{\")\n",
        "  name=str(input(\"Ingrese el nombre: \"))\n",
        "  name=name.capitalize()\n",
        "  age=int(input(\"Ingrese la edad: \"))\n",
        "  heigh=int(input(\"Ingrese la altura en centímetros: \"))\n",
        "  n1=Dulce_o_Truco(name,age,heigh)\n",
        "  print(\"¿Qué quiere hacer? [Truco o trato]\")\n",
        "  a=str(input(\"Ingrese la acción que desea realizar: \"))\n",
        "  a=a.lower()\n",
        "  while a!=\"truco\" and a!=\"trato\":\n",
        "    a=str(input(\"Ingrese una acción válida: \"))\n",
        "    a=a.lower()\n",
        "  n1.opcion(a)\n",
        "  print(\"}-----------------------------------{\")\n",
        "  print(\"¿Hay más personas pidiendo dulces?\")\n",
        "  choice=str(input(\"Si->s / No->n: \"))\n",
        "  while choice!=\"s\" and choice!=\"n\":\n",
        "    print(\"Ingrese una opción válida\")\n",
        "    choice=str(input(\"Si->s / No->n: \"))\n",
        "  if choice==\"n\":\n",
        "    print(\"Hasta la próxima\")\n",
        "    break"
      ]
    }
  ]
}