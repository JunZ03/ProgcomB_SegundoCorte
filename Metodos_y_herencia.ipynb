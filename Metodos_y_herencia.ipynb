{
  "nbformat": 4,
  "nbformat_minor": 0,
  "metadata": {
    "colab": {
      "provenance": []
    },
    "kernelspec": {
      "name": "python3",
      "display_name": "Python 3"
    },
    "language_info": {
      "name": "python"
    }
  },
  "cells": [
    {
      "cell_type": "code",
      "execution_count": 1,
      "metadata": {
        "colab": {
          "base_uri": "https://localhost:8080/"
        },
        "id": "9IoNvKT9ePeS",
        "outputId": "5cb56366-a9b2-46e0-d431-f704f4e7c18a"
      },
      "outputs": [
        {
          "output_type": "stream",
          "name": "stdout",
          "text": [
            "Ingrese su nivel de vida: 5000\n",
            "Ingrese su resistencia: 2700\n",
            "Ingrese su xp: 22000\n",
            "Ingrese su cantidad de vidas: 3\n",
            "El ninja tiene: \n",
            "Hp:5000\n",
            "Resistencia:2700\n",
            "Xp:22000\n",
            "Vidas:3\n"
          ]
        }
      ],
      "source": [
        "#Ejrc\n",
        "class Ninjas:\n",
        "  def __init__(self,hp,resistencia,xp,vidas):\n",
        "    self.hp=hp\n",
        "    self.resistencia=resistencia\n",
        "    self.xp=xp\n",
        "    self.vidas=vidas\n",
        "  \n",
        "  def __str__(self):\n",
        "    return \"El ninja tiene: \\n\"+\"Hp:\"+str(self.hp)+\"\\nResistencia:\"+str(self.resistencia)+\"\\nXp:\"+str(self.xp)+\"\\nVidas:\"+str(self.vidas)\n",
        "  \n",
        "hp=int(input(\"Ingrese su nivel de vida: \"))\n",
        "resistencia=int(input(\"Ingrese su resistencia: \"))\n",
        "xp=int(input(\"Ingrese su xp: \"))\n",
        "vidas=int(input(\"Ingrese su cantidad de vidas: \"))\n",
        "\n",
        "ninja1=Ninjas(hp,resistencia,xp,vidas)\n",
        "print(ninja1)"
      ]
    },
    {
      "cell_type": "code",
      "source": [
        "#EJr 1\n",
        "class empleado:\n",
        "    def __init__(self,n,a,sal):\n",
        "        self.n=n\n",
        "        self.a=a\n",
        "        self.sal=sal\n",
        "    \n",
        "\n",
        "    def __str__(self):\n",
        "        if self.sal > 8000:\n",
        "            return \"(\"+str(self.n)+\" \"+str(self.a)+\" con salario de \"+str(self.sal)+\" debe pagar impuestos)\"\n",
        "        else:\n",
        "            return \"(\"+str(self.n)+\" \"+str(self.a)+\" con salario de \"+str(self.sal)+\" no debe pagar impuestos)\"\n",
        "\n",
        "\n",
        "\n",
        "nombre=str(input(\"Ingrese su nombre\"))\n",
        "apellido=str(input(\"Ingrese su apellido\"))\n",
        "salario=int(input(\"Ingrese su salario\"))\n",
        "\n",
        "empleadoa= empleado(nombre,apellido,salario)\n",
        "print(empleadoa)"
      ],
      "metadata": {
        "colab": {
          "base_uri": "https://localhost:8080/"
        },
        "id": "hVN8e69wegTO",
        "outputId": "4fdfca41-15ca-45eb-8374-a05ef960de07"
      },
      "execution_count": 2,
      "outputs": [
        {
          "output_type": "stream",
          "name": "stdout",
          "text": [
            "Ingrese su nombrejuan\n",
            "Ingrese su apellidozuluaga\n",
            "Ingrese su salario12000\n",
            "(juan zuluaga con salario de 12000 debe pagar impuestos)\n"
          ]
        }
      ]
    },
    {
      "cell_type": "code",
      "source": [
        "class humano:\n",
        "  def __init__(self,nombre):\n",
        "     \n",
        "     self.nombre=nombre\n",
        "\n",
        "  def moverse(self,velocidad):\n",
        "    if velocidad==0:\n",
        "      return str(self.nombre)+\" no se está moviendo\"\n",
        "    elif velocidad>0 and velocidad<=5:\n",
        "      return str(self.nombre)+\" esta gateando\"\n",
        "    elif velocidad>5 and velocidad<=15:\n",
        "      return str(self.nombre)+\" esta caminando\"\n",
        "    elif velocidad>15 and velocidad<=30:\n",
        "      return str(self.nombre)+\" esta corriendo\"\n",
        "    elif velocidad>30 and velocidad<=100:\n",
        "      return str(self.nombre)+\" esta papiando\"\n",
        "\n",
        "  def trabajos(self,trabajo):\n",
        "    tr=[\"Desempleado\",\"Pandillero\",\"Comentarista\",\"Profesor\",\"Luchador\",\"Medico\"]\n",
        "    if tr[trabajo] in trabajo:\n",
        "      if trabajo==0:\n",
        "        print(self.nombre,\"esta\",tr[trabajo])\n",
        "      else:\n",
        "        print(self.nombre,\"es\",tr[trabajo])\n",
        "\n",
        "      \n",
        "\n",
        "\n",
        "\n",
        "class Sayajin:\n",
        "  def __init__(self,ojos,cabello,boca,orejas,nariz,dientes,brazos,piernas,peso, altura,sexo,Rh,nombre,colamono):\n",
        "    self.ojos=ojos\n",
        "    self.cabello=cabello\n",
        "    self.boca=boca\n",
        "    self.orejas=orejas\n",
        "    self.nariz=nariz\n",
        "    self.dientes=dientes\n",
        "    self.brazos=brazos\n",
        "    self.piernas=piernas\n",
        "    self.peso=peso\n",
        "    self.altura=altura\n",
        "    self.sexo=sexo\n",
        "    self.Rh=Rh\n",
        "    self.nombre=nombre\n",
        "    self.colamono=True\n",
        "  \n",
        "  def moverse(self,velocidad):\n",
        "    if velocidad==0:\n",
        "      return str(self.nombre)+\" no se está moviendo\"\n",
        "    elif velocidad>0 and velocidad<=50:\n",
        "      return str(self.nombre)+\" esta gateando\"\n",
        "    elif velocidad>50 and velocidad<=150:\n",
        "      return str(self.nombre)+\" esta caminando\"\n",
        "    elif velocidad>150 and velocidad<=3000:\n",
        "      return str(self.nombre)+\" esta corriendo\"\n",
        "    elif velocidad>3000 and velocidad<=100000:\n",
        "      return str(self.nombre)+\" esta papiando\"\n",
        "\n",
        "  def trnasformación(self,luna):\n",
        "    if luna and self.colademono:\n",
        "      return str(self.nombre)+\" Se tranforma\"\n",
        "    elif luna and self.colademono==False:\n",
        "      return str(self.nombre)+\" No se tranforma\"\n",
        "    else:\n",
        "      return str(self.nombre)+\" No se tranforma\"\n",
        "  \n",
        "  def trabajos(self,trabajo):\n",
        "    tr=[\"Esclavo\",\"Mercenario\",\"Pilotos\",\"Luchadores\",\"Granjeros\"]\n",
        "    if tr[trabajo] in trabajo:\n",
        "      if trabajo==0:\n",
        "        print(self.nombre,\"esta\",tr[trabajo])\n",
        "      else:\n",
        "        print(self.nombre,\"es\",tr[trabajo])\n",
        "\n",
        "\n",
        "\n",
        "class hibridos(Sayajin,humano):\n",
        "  pass    #Herencia multiple\n",
        "\n",
        "\n",
        "gohan=hibridos()\n",
        "vel=int(input(\"A que velocidad se encuentra moviendo? \"))\n",
        "nombre= str(input(\"Ingrese el nombre: \"))\n",
        "humano1=humano(nombre)\n",
        "carrera=humano1.moverse(vel)\n",
        "\n",
        "print(carrera)"
      ],
      "metadata": {
        "colab": {
          "base_uri": "https://localhost:8080/"
        },
        "id": "4R6hoB7Tezqi",
        "outputId": "73c07d7d-f5f1-4209-9d7e-641ff5c592c7"
      },
      "execution_count": 3,
      "outputs": [
        {
          "output_type": "stream",
          "name": "stdout",
          "text": [
            "A que velocidad se encuentra moviendo? 50\n",
            "Ingrese el nombre: juan\n",
            "juan esta papiando\n"
          ]
        }
      ]
    }
  ]
}