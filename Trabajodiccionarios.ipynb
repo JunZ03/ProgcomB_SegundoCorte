{
  "nbformat": 4,
  "nbformat_minor": 0,
  "metadata": {
    "colab": {
      "provenance": []
    },
    "kernelspec": {
      "name": "python3",
      "display_name": "Python 3"
    },
    "language_info": {
      "name": "python"
    }
  },
  "cells": [
    {
      "cell_type": "markdown",
      "source": [
        "#Diccionarios por comprensión.\n",
        "###Programa que"
      ],
      "metadata": {
        "id": "M4QIhwCAgub4"
      }
    },
    {
      "cell_type": "code",
      "execution_count": 51,
      "metadata": {
        "colab": {
          "base_uri": "https://localhost:8080/"
        },
        "id": "xKdJ3IBJgDUr",
        "outputId": "53bb82b7-ba60-4531-e475-8ca816bdc700"
      },
      "outputs": [
        {
          "output_type": "stream",
          "name": "stdout",
          "text": [
            "{'Alex': 3711, 'Bob': 3710, 'Carol': 179, 'Dave': 4257, 'Flow': 4497, 'Katie': 1569, 'Nate': 3207}\n",
            "21130\n",
            "16904.0\n"
          ]
        }
      ],
      "source": [
        "import random\n",
        "productos = [\"Alex\",\"Bob\",\"Carol\",\"Dave\",\"Flow\",\"Katie\",\"Nate\"]\n",
        "catalogocomp={productos: random.randint(100,5000) for productos in productos}\n",
        "costes=sorted(catalogocomp)\n",
        "\n",
        "gastos= sum(catalogocomp.values())*0.8 if sum(catalogocomp.values())>10000 else None\n",
        "iva={productos:productos*0,16 for iva in productos}\n",
        "print(sum(catalogocomp.values()))\n",
        "print(gastos)\n",
        "\n",
        "\n"
      ]
    }
  ]
}