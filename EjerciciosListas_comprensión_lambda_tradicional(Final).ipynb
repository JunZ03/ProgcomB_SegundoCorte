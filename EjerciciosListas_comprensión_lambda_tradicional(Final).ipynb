{
  "nbformat": 4,
  "nbformat_minor": 0,
  "metadata": {
    "colab": {
      "provenance": []
    },
    "kernelspec": {
      "name": "python3",
      "display_name": "Python 3"
    },
    "language_info": {
      "name": "python"
    }
  },
  "cells": [
    {
      "cell_type": "markdown",
      "source": [
        "#Listas"
      ],
      "metadata": {
        "id": "Qars1I6yoZHK"
      }
    },
    {
      "cell_type": "markdown",
      "source": [
        "##1. Samuelle"
      ],
      "metadata": {
        "id": "Kqn1k3x5ohXp"
      }
    },
    {
      "cell_type": "code",
      "source": [
        "numbers=[1,2,3,4]\n",
        "results=[]\n",
        "for n in numbers:\n",
        "  results.append(n+1)\n",
        "results"
      ],
      "metadata": {
        "colab": {
          "base_uri": "https://localhost:8080/"
        },
        "id": "XrAnHVfho00w",
        "outputId": "9ef6e9d5-38c1-4c50-d0bd-a109546a239a"
      },
      "execution_count": null,
      "outputs": [
        {
          "output_type": "execute_result",
          "data": {
            "text/plain": [
              "[2, 3, 4, 5]"
            ]
          },
          "metadata": {},
          "execution_count": 6
        }
      ]
    },
    {
      "cell_type": "code",
      "source": [
        "numbers=[1,2,3,4]\n",
        "results=[n+1 for n in numbers if n<5]\n",
        "results"
      ],
      "metadata": {
        "colab": {
          "base_uri": "https://localhost:8080/"
        },
        "id": "ClIQzngPok84",
        "outputId": "14b69020-5200-4ff9-a09f-89794957e734"
      },
      "execution_count": null,
      "outputs": [
        {
          "output_type": "execute_result",
          "data": {
            "text/plain": [
              "[2, 3, 4, 5]"
            ]
          },
          "metadata": {},
          "execution_count": 4
        }
      ]
    },
    {
      "cell_type": "code",
      "source": [
        "results2=lambda numbers:results\n",
        "print(results2(numbers))"
      ],
      "metadata": {
        "colab": {
          "base_uri": "https://localhost:8080/"
        },
        "id": "Lo1IifG4on8o",
        "outputId": "feb238e6-0ceb-4b92-b3d3-9043ba09c79c"
      },
      "execution_count": null,
      "outputs": [
        {
          "output_type": "stream",
          "name": "stdout",
          "text": [
            "[2, 3, 4, 5]\n"
          ]
        }
      ]
    },
    {
      "cell_type": "markdown",
      "source": [
        "##2. Jesus Lobo"
      ],
      "metadata": {
        "id": "X7qE2gBUobyZ"
      }
    },
    {
      "cell_type": "code",
      "execution_count": null,
      "metadata": {
        "colab": {
          "base_uri": "https://localhost:8080/"
        },
        "id": "TRyX-pfEn5Ss",
        "outputId": "21a6012b-834a-46b1-97fe-c8fae1b4d075"
      },
      "outputs": [
        {
          "output_type": "stream",
          "name": "stdout",
          "text": [
            "Hasta que número quieres imprimir los pares e impares: 20\n",
            "[0, 2, 4, 6, 8, 10, 12, 14, 16, 18, 20]\n",
            "[1, 3, 5, 7, 9, 11, 13, 15, 17, 19]\n"
          ]
        }
      ],
      "source": [
        "n=int(input(\"Hasta que número quieres imprimir los pares e impares: \"))\n",
        "pares=[número for número in range(0,n+1) if número%2==0]\n",
        "print(pares)\n",
        "impares=[número for número in range(0,n+1) if número%2!=0]\n",
        "print(impares)"
      ]
    },
    {
      "cell_type": "code",
      "source": [
        "num=int(input(\"Hasta que número quieres imprimir los pares e impares: \"))\n",
        "def hola(n):\n",
        "  pares=[número for número in range(0,n+1) if número%2==0]\n",
        "  print(pares)\n",
        "  impares=[número for número in range(0,n+1) if número%2!=0]\n",
        "  print(impares)\n",
        "hola(num)"
      ],
      "metadata": {
        "colab": {
          "base_uri": "https://localhost:8080/"
        },
        "id": "xddJwPhBn7jK",
        "outputId": "3db5e5ac-647c-43de-f50b-ea566cacf5e8"
      },
      "execution_count": null,
      "outputs": [
        {
          "output_type": "stream",
          "name": "stdout",
          "text": [
            "Hasta que número quieres imprimir los pares e impares: 20\n",
            "[0, 2, 4, 6, 8, 10, 12, 14, 16, 18, 20]\n",
            "[1, 3, 5, 7, 9, 11, 13, 15, 17, 19]\n"
          ]
        }
      ]
    },
    {
      "cell_type": "code",
      "source": [
        "num=int(input(\"Hasta que número quieres imprimir los pares e impares: \"))\n",
        "mi_lista=[n for n in range(0,num+1)]\n",
        "impares=list(filter(lambda num:num%2==0,mi_lista))\n",
        "print(pares)\n",
        "pares=list(filter(lambda num:num%2!=0,mi_lista))\n",
        "print(impares)"
      ],
      "metadata": {
        "colab": {
          "base_uri": "https://localhost:8080/"
        },
        "id": "a-THzrrjn8Hi",
        "outputId": "be71fcec-d2ff-457d-c40e-5957c23934e1"
      },
      "execution_count": null,
      "outputs": [
        {
          "output_type": "stream",
          "name": "stdout",
          "text": [
            "Hasta que número quieres imprimir los pares e impares: 20\n",
            "[0, 2, 4, 6, 8, 10, 12, 14, 16, 18, 20]\n",
            "[0, 2, 4, 6, 8, 10, 12, 14, 16, 18, 20]\n"
          ]
        }
      ]
    },
    {
      "cell_type": "markdown",
      "source": [
        "##3. Jhonsito"
      ],
      "metadata": {
        "id": "HPSiXRVlo6QY"
      }
    },
    {
      "cell_type": "code",
      "source": [
        "def perfecto(número):\n",
        "  perf=0\n",
        "  for i in range(1,número):\n",
        "    if número%i==0:\n",
        "      perf+=i\n",
        "  if perf==número:\n",
        "    print(\"es número perfecto\")\n",
        "    return True\n",
        "  else:\n",
        "    print(\"no es número perfecto\")\n",
        "número=6\n",
        "perfecto(número)"
      ],
      "metadata": {
        "colab": {
          "base_uri": "https://localhost:8080/"
        },
        "id": "6qVgsz8eo9aY",
        "outputId": "6813d752-f246-4f1f-c99b-5057d85ff3a7"
      },
      "execution_count": null,
      "outputs": [
        {
          "output_type": "stream",
          "name": "stdout",
          "text": [
            "es número perfecto\n"
          ]
        },
        {
          "output_type": "execute_result",
          "data": {
            "text/plain": [
              "True"
            ]
          },
          "metadata": {},
          "execution_count": 10
        }
      ]
    },
    {
      "cell_type": "code",
      "source": [
        "def números():\n",
        "  a=int(input(\"Ingresa un número: \"))\n",
        "  b=int(input(\"Ingresa un número: \"))\n",
        "  c=int(input(\"Ingresa un número: \"))\n",
        "  d=int(input(\"Ingresa un número: \"))\n",
        "  perfect=[a,b,c,d]\n",
        "  perfect1=[elemento for elemento in perfect if perfecto(elemento)==True]\n",
        "\n",
        "números()"
      ],
      "metadata": {
        "colab": {
          "base_uri": "https://localhost:8080/"
        },
        "id": "lm40UDBfpCyn",
        "outputId": "b114a779-334c-467d-a110-95bbd639dd09"
      },
      "execution_count": null,
      "outputs": [
        {
          "output_type": "stream",
          "name": "stdout",
          "text": [
            "Ingresa un número: 1\n",
            "Ingresa un número: 2\n",
            "Ingresa un número: 3\n",
            "Ingresa un número: 6\n",
            "no es número perfecto\n",
            "no es número perfecto\n",
            "no es número perfecto\n",
            "es número perfecto\n"
          ]
        }
      ]
    },
    {
      "cell_type": "code",
      "source": [
        "lista=[2,3,6,4]\n",
        "perfect2=list(map(lambda elemento:perfecto(elemento)==True,lista))\n",
        "perfect2"
      ],
      "metadata": {
        "colab": {
          "base_uri": "https://localhost:8080/"
        },
        "id": "NdkvhejZpGlv",
        "outputId": "ef57044e-81dd-493e-9dbc-31635be7bbe9"
      },
      "execution_count": null,
      "outputs": [
        {
          "output_type": "stream",
          "name": "stdout",
          "text": [
            "no es número perfecto\n",
            "no es número perfecto\n",
            "es número perfecto\n",
            "no es número perfecto\n"
          ]
        },
        {
          "output_type": "execute_result",
          "data": {
            "text/plain": [
              "[False, False, True, False]"
            ]
          },
          "metadata": {},
          "execution_count": 13
        }
      ]
    },
    {
      "cell_type": "markdown",
      "source": [
        "##4. Juandivox"
      ],
      "metadata": {
        "id": "8qPrW8JrpYof"
      }
    },
    {
      "cell_type": "code",
      "source": [
        "import random\n",
        "numero1=[random.randint(0,2000) for x in range(100)]\n",
        "numero2=[random.randint(0,2000) for x in range(100)]\n",
        "comun=[]\n",
        "for a in numero1:\n",
        "  for b in numero2:\n",
        "    if a==b:\n",
        "      comun.append(a)\n",
        "print(comun)"
      ],
      "metadata": {
        "colab": {
          "base_uri": "https://localhost:8080/"
        },
        "id": "lwCK8Q4mpaUv",
        "outputId": "a6ba3338-b938-49c8-c875-d7952f8ef99b"
      },
      "execution_count": null,
      "outputs": [
        {
          "output_type": "stream",
          "name": "stdout",
          "text": [
            "[765, 389, 389, 490]\n"
          ]
        }
      ]
    },
    {
      "cell_type": "code",
      "source": [
        "import random\n",
        "numero1=[random.randint(0,2000) for x in range(100)]\n",
        "numero2=[random.randint(0,2000) for x in range(100)]\n",
        "comun=[]\n",
        "comun=list(filter(lambda num:num in numero1, numero2))\n",
        "print(comun)"
      ],
      "metadata": {
        "colab": {
          "base_uri": "https://localhost:8080/"
        },
        "id": "Se48L2EnptYX",
        "outputId": "d3d89762-d2d1-4ad3-d300-a143fcaf8720"
      },
      "execution_count": null,
      "outputs": [
        {
          "output_type": "stream",
          "name": "stdout",
          "text": [
            "[593, 954, 1050, 1383, 1022, 534, 1752]\n"
          ]
        }
      ]
    },
    {
      "cell_type": "code",
      "source": [
        "import random\n",
        "numero1=[random.randint(0,2000) for x in range(100)]\n",
        "numero2=[random.randint(0,2000) for x in range(100)]\n",
        "comun=[x for x in numero1 for y in numero2 if x==y]\n",
        "print(comun)"
      ],
      "metadata": {
        "colab": {
          "base_uri": "https://localhost:8080/"
        },
        "id": "SiToKN-uqPhm",
        "outputId": "c5d01b72-8d23-40f7-ae47-3ece887c5732"
      },
      "execution_count": null,
      "outputs": [
        {
          "output_type": "stream",
          "name": "stdout",
          "text": [
            "[751, 1536, 433, 1643, 840, 751]\n"
          ]
        }
      ]
    },
    {
      "cell_type": "markdown",
      "source": [
        "##5. Daniel Alarcón"
      ],
      "metadata": {
        "id": "uX8MSzAIs_k4"
      }
    },
    {
      "cell_type": "code",
      "source": [
        "def square(num):\n",
        "  return num**2\n",
        "print(square(5))"
      ],
      "metadata": {
        "colab": {
          "base_uri": "https://localhost:8080/"
        },
        "id": "oWGjunNKtDmY",
        "outputId": "300c019a-0f7f-4681-c453-5ec12c4008d0"
      },
      "execution_count": null,
      "outputs": [
        {
          "output_type": "stream",
          "name": "stdout",
          "text": [
            "25\n"
          ]
        }
      ]
    },
    {
      "cell_type": "code",
      "source": [
        "L=[1,2,3,4]\n",
        "L2=[n**2 for n in L]\n",
        "print(L2)"
      ],
      "metadata": {
        "colab": {
          "base_uri": "https://localhost:8080/"
        },
        "id": "K_bmlMg3tRav",
        "outputId": "55b0432a-3555-43a8-cf03-8ded9ae4fd7e"
      },
      "execution_count": null,
      "outputs": [
        {
          "output_type": "stream",
          "name": "stdout",
          "text": [
            "[1, 4, 9, 16]\n"
          ]
        }
      ]
    },
    {
      "cell_type": "code",
      "source": [
        "lambda_fun= lambda x:x**2\n",
        "lambda_fun(3)"
      ],
      "metadata": {
        "colab": {
          "base_uri": "https://localhost:8080/"
        },
        "id": "WILDt32utglX",
        "outputId": "a135facf-df11-40f1-9289-d4608d5e2612"
      },
      "execution_count": null,
      "outputs": [
        {
          "output_type": "execute_result",
          "data": {
            "text/plain": [
              "9"
            ]
          },
          "metadata": {},
          "execution_count": 25
        }
      ]
    },
    {
      "cell_type": "markdown",
      "source": [
        "##6. Angie"
      ],
      "metadata": {
        "id": "RsayH_VettE8"
      }
    },
    {
      "cell_type": "code",
      "source": [
        "nom1=[\"Samuelle\",\"Angie\",\"Valentina\",\"Alejandro\", \"Jhonsito\"]\n",
        "nom2=[\"Samuelle\",\"Andrea\",\"Samdra\",\"Anderson\", \"Jhonsito\"]"
      ],
      "metadata": {
        "id": "a3Jc2D_Etuv9"
      },
      "execution_count": null,
      "outputs": []
    },
    {
      "cell_type": "code",
      "source": [
        "common={a for a in nom1 for b in nom2 if a==b}\n",
        "common"
      ],
      "metadata": {
        "colab": {
          "base_uri": "https://localhost:8080/"
        },
        "id": "8mRb3QYbuC7b",
        "outputId": "3ab4a087-3c91-406f-e299-2ab1d134ca25"
      },
      "execution_count": null,
      "outputs": [
        {
          "output_type": "execute_result",
          "data": {
            "text/plain": [
              "{'Jhonsito', 'Samuelle'}"
            ]
          },
          "metadata": {},
          "execution_count": 28
        }
      ]
    },
    {
      "cell_type": "code",
      "source": [
        "common1=lambda nom1, nom2:common\n",
        "print(common1(nom1,nom2))\n"
      ],
      "metadata": {
        "colab": {
          "base_uri": "https://localhost:8080/"
        },
        "id": "3JlUfGgDuNaM",
        "outputId": "c9d98b82-b7de-4f41-ad5e-70db22584fd9"
      },
      "execution_count": null,
      "outputs": [
        {
          "output_type": "stream",
          "name": "stdout",
          "text": [
            "{'Jhonsito', 'Samuelle'}\n"
          ]
        }
      ]
    },
    {
      "cell_type": "code",
      "source": [
        "def common(nom1,nom2):\n",
        "  return nom1,nom2\n",
        "common(nom1,nom2)"
      ],
      "metadata": {
        "colab": {
          "base_uri": "https://localhost:8080/"
        },
        "id": "g9q6ep7-ubvj",
        "outputId": "46f6f8ff-26a2-4865-e89a-a61b6552e0c1"
      },
      "execution_count": null,
      "outputs": [
        {
          "output_type": "execute_result",
          "data": {
            "text/plain": [
              "(['Samuelle', 'Angie', 'Valentina', 'Alejandro', 'Jhonsito'],\n",
              " ['Samuelle', 'Andrea', 'Samdra', 'Anderson', 'Jhonsito'])"
            ]
          },
          "metadata": {},
          "execution_count": 32
        }
      ]
    },
    {
      "cell_type": "markdown",
      "source": [
        "##7. Valentina"
      ],
      "metadata": {
        "id": "nlVMgk9r1HvQ"
      }
    },
    {
      "cell_type": "code",
      "source": [
        "def listaIMC(usuarios):\n",
        "  sis=[]\n",
        "  imc=[]\n",
        "  b=0\n",
        "  a2=0\n",
        "  for n in range(usuarios):\n",
        "    w=input(\"¿Cuál es tu nombre?\")\n",
        "    b=int(input(\"Ingresa el peso: \"))\n",
        "    a2=int(input(\"Ingresa la altura: \"))\n",
        "    sis.append((w,b/a2**2))\n",
        "    imc.append(b/a2**2)\n",
        "  return sis,imc\n",
        "user=int(input(\"¿Cuántos usuarios hay?: \"))\n",
        "sis,imc=listaIMC(user)\n",
        "imc"
      ],
      "metadata": {
        "colab": {
          "base_uri": "https://localhost:8080/"
        },
        "id": "7VQy6fAk1oku",
        "outputId": "e6a88a6e-e769-4a66-a237-bb2807f6212c"
      },
      "execution_count": null,
      "outputs": [
        {
          "name": "stdout",
          "output_type": "stream",
          "text": [
            "¿Cuántos usuarios hay?: 3\n",
            "¿Cuál es tu nombre?A\n",
            "Ingresa el peso: 3\n",
            "Ingresa la altura: 54\n",
            "¿Cuál es tu nombre?B\n",
            "Ingresa el peso: 43\n",
            "Ingresa la altura: 213\n",
            "¿Cuál es tu nombre?C\n",
            "Ingresa el peso: 54\n",
            "Ingresa la altura: 321\n"
          ]
        },
        {
          "output_type": "execute_result",
          "data": {
            "text/plain": [
              "[0.00102880658436214, 0.0009477837289779365, 0.000524063236963927]"
            ]
          },
          "metadata": {},
          "execution_count": 33
        }
      ]
    },
    {
      "cell_type": "code",
      "source": [
        "sis=listaIMC(user)\n",
        "sis2=[n for n in imc if n>=18.5]\n",
        "print(sis2)"
      ],
      "metadata": {
        "colab": {
          "base_uri": "https://localhost:8080/"
        },
        "id": "EGnAdlTd1yYg",
        "outputId": "3184e57e-9c13-4480-c2c6-90e2f6219394"
      },
      "execution_count": null,
      "outputs": [
        {
          "output_type": "stream",
          "name": "stdout",
          "text": [
            "¿Cuál es tu nombre?Adrian\n",
            "Ingresa el peso: 67\n",
            "Ingresa la altura: 175\n",
            "¿Cuál es tu nombre?b\n",
            "Ingresa el peso: 343\n",
            "Ingresa la altura: 5423\n",
            "¿Cuál es tu nombre?r\n",
            "Ingresa el peso: 432\n",
            "Ingresa la altura: 54\n",
            "[]\n"
          ]
        }
      ]
    },
    {
      "cell_type": "code",
      "source": [
        "sis"
      ],
      "metadata": {
        "colab": {
          "base_uri": "https://localhost:8080/"
        },
        "id": "MCXOgq8n10iA",
        "outputId": "3621d63a-049e-41eb-be1e-85d4084093dd"
      },
      "execution_count": null,
      "outputs": [
        {
          "output_type": "execute_result",
          "data": {
            "text/plain": [
              "([('Adrian', 0.0021877551020408163),\n",
              "  ('b', 1.1663124488484433e-05),\n",
              "  ('r', 0.14814814814814814)],\n",
              " [0.0021877551020408163, 1.1663124488484433e-05, 0.14814814814814814])"
            ]
          },
          "metadata": {},
          "execution_count": 35
        }
      ]
    },
    {
      "cell_type": "code",
      "source": [
        "sis3=list(map(lambda x:\"peso insuficiente\" if x<18.5 else \"peso normal\" if (x>=18.5 and x<24.9) else \"sobrepeso\" if (x>=24.9 and x<30) else \"obesidad\",imc))\n",
        "sis3"
      ],
      "metadata": {
        "colab": {
          "base_uri": "https://localhost:8080/"
        },
        "id": "SEUSQHaa11mn",
        "outputId": "efd6eea7-daa7-4d0f-b84f-1769524d7fe7"
      },
      "execution_count": null,
      "outputs": [
        {
          "output_type": "execute_result",
          "data": {
            "text/plain": [
              "['peso insuficiente', 'peso insuficiente', 'peso insuficiente']"
            ]
          },
          "metadata": {},
          "execution_count": 36
        }
      ]
    },
    {
      "cell_type": "markdown",
      "source": [
        "##8. Lewis"
      ],
      "metadata": {
        "id": "jzhSJvzT2W7O"
      }
    },
    {
      "cell_type": "code",
      "source": [
        "print(\"Ingresa su código: \")\n",
        "caracter=input()\n",
        "if len(caracter)==8:\n",
        "  if caracter[0]=='u':\n",
        "    print(\"Eres estudiante de la Unab\")\n",
        "  elif(caracter.starswith(\"a000\")):\n",
        "    print(\"Eres estudiante de los Andes\")\n",
        "  else:\n",
        "    if(int(caracter)>=1950):\n",
        "      print(\"Eres estudiante de la UIS\")\n",
        "else:\n",
        "  print(\"No corresponde a ninguna universidad, revisa tu código\")"
      ],
      "metadata": {
        "id": "fl7BVlmx2Wbl"
      },
      "execution_count": null,
      "outputs": []
    },
    {
      "cell_type": "code",
      "source": [
        "universidades=[\"unab\",\"uis\",\"andes\"]\n",
        "codigo=[\"U0015741\",\"198076\",\"a0005437\"]\n",
        "u=[cod for cod in codigo if (cod[0]=='U' and len(cod)==8)]\n",
        "print(u)"
      ],
      "metadata": {
        "id": "cdbJYn7qdF3T"
      },
      "execution_count": null,
      "outputs": []
    },
    {
      "cell_type": "code",
      "source": [
        "y=list(map(lambda x:\"unab\" if (x[0]=='U' or x[0]=='u') else None,codigo))\n",
        "print(y)"
      ],
      "metadata": {
        "id": "rMGO-jUddJXK"
      },
      "execution_count": null,
      "outputs": []
    },
    {
      "cell_type": "markdown",
      "source": [
        "##Cristhian"
      ],
      "metadata": {
        "id": "okp1Boo_dKoZ"
      }
    },
    {
      "cell_type": "code",
      "source": [
        "def funcion(lista, numDigitos, universidad,clasCodigo):\n",
        "  clasi=[a for a in lista if a.startswith(clasCodigo) and len(a)==numDigitos]\n",
        "  print(f'Hay {len(clasi)} estudiante(s) de {universidad} y sus codigo(s) son {clasi}')\n",
        "\n",
        "lista=[]\n",
        "x=0\n",
        "while x==0:\n",
        "  entrada=input(\"Ingresa un codigo: \")\n",
        "  lista.append(entrada)\n",
        "  a=int(input(\"¿Deseas ingresar otro? Ingresa 0 si lo deseas,sino ingresa 1: \"))\n",
        "  if (a==1):\n",
        "    x=x+1\n",
        "\n",
        "funcion(lista,9,'la Unab','U00')\n",
        "funcion(lista,9,'los Andes','A000')"
      ],
      "metadata": {
        "id": "D4How_88dOok"
      },
      "execution_count": null,
      "outputs": []
    },
    {
      "cell_type": "code",
      "source": [
        "lista=[]\n",
        "x=0\n",
        "while x==0:\n",
        "  entrada=input(\"Ingresa un codigo: \")\n",
        "  lista.append(entrada)\n",
        "  a=int(input(\"¿Deseas ingresar otro? Ingresa 0 si lo deseas,sino ingresa 1: \"))\n",
        "  if (a==1):\n",
        "    x=x+1\n",
        "\n",
        "clasificacion=[a for a in lista if a.startswith(\"U00\") and len(a)==9]\n",
        "print(f'Hay {len(clasificacion)} estudiante(s) de la Unab y sus codigo(s) son {clasificacion}')\n",
        "clasificacion=[a for a in lista if a.startswith(\"A000\") and len(a)==9]\n",
        "print(f'Hay {len(clasificacion)} estudiante(s) de los Andes y sus codigo(s) son {clasificacion}')"
      ],
      "metadata": {
        "id": "lU4MWHMcdR_Z"
      },
      "execution_count": null,
      "outputs": []
    },
    {
      "cell_type": "code",
      "source": [
        "lista=[]\n",
        "x=0\n",
        "while x==0:\n",
        "  entrada=input(\"Ingresa un codigo: \")\n",
        "  lista.append(entrada)\n",
        "  a=int(input(\"¿Deseas ingresar otro? Ingresa 0 si lo deseas,sino ingresa 1: \"))\n",
        "  if (a==1):\n",
        "    x=x+1\n",
        "lista1=[\"U0015741\",\"198076\",\"a0005437\"]\n",
        "clasif=list(map(lambda a:\"UNAB\" if a.startswith(\"U00\") or a.startswith(\"u00\") else 'Los Andes' if a.startswith(\"A000\") or a.startswith(\"A000\") else None, lista))\n",
        "clasif"
      ],
      "metadata": {
        "id": "XhxFInuvdVS2"
      },
      "execution_count": null,
      "outputs": []
    },
    {
      "cell_type": "markdown",
      "source": [
        "##Armith"
      ],
      "metadata": {
        "id": "kP_sygDQda2e"
      }
    },
    {
      "cell_type": "code",
      "source": [
        "num=[1,2,3,4,5,6,7,8,9,10]\n",
        "exp=int(input(\"Escribe un exponente: \"))\n",
        "x=len(num)\n",
        "for n in range(1,(x)):\n",
        "  num[n]=num[n]**exp\n",
        "print(num)\n",
        "def imprimir(num):\n",
        "  s=1\n",
        "  for i in num:\n",
        "    print(f\"\\nEl resultado del elemento {s} de la lista es {i}\")\n",
        "    s+=1\n",
        "imprimir(num)"
      ],
      "metadata": {
        "id": "SdsHjYiWdecs"
      },
      "execution_count": null,
      "outputs": []
    },
    {
      "cell_type": "code",
      "source": [
        "num=[1,2,3,4,5,6,7,8,9,10]\n",
        "exp=int(input(\"Escribe un exponente: \"))\n",
        "números=[n**exp for n in num]\n",
        "números\n",
        "imprimir(números)"
      ],
      "metadata": {
        "id": "z1nrD16Xdgid"
      },
      "execution_count": null,
      "outputs": []
    },
    {
      "cell_type": "code",
      "source": [
        "num=list(range(1,11))\n",
        "exp=int(input(\"Escribe un exponente: \"))\n",
        "números=lambda num,exp:(n**exp for n in num)\n",
        "número1=números(num,exp)\n",
        "imprimir(list(número1))"
      ],
      "metadata": {
        "id": "MzzBrmaIdjLO"
      },
      "execution_count": null,
      "outputs": []
    },
    {
      "cell_type": "markdown",
      "source": [
        "#Diccionarios"
      ],
      "metadata": {
        "id": "4sj0leRzeRc_"
      }
    },
    {
      "cell_type": "markdown",
      "source": [
        "##Santiago Carvajal"
      ],
      "metadata": {
        "id": "Dc0gIfOmIuam"
      }
    },
    {
      "cell_type": "code",
      "source": [
        "#Comprensión\n",
        "import random\n",
        "clientes=[\"Alex\",\"Bob\",\"Carol\",\"Dave\",\"Flow\",\"Katie\",\"Nate\"]\n",
        "diccionario_descuentos={cliente:random.randint(1,100) for cliente in clientes}\n",
        "print(diccionario_descuentos)"
      ],
      "metadata": {
        "id": "sSdGVLfJI7f-"
      },
      "execution_count": null,
      "outputs": []
    },
    {
      "cell_type": "code",
      "source": [
        "#Lambda\n",
        "import random\n",
        "clientes=[\"Alex\",\"Bob\",\"Carol\",\"Dave\",\"Flow\",\"Katie\",\"Nate\"]\n",
        "diccionario_descuentos=(dict(map(lambda diccionario_descuentos:(diccionario_descuentos,random.randint(1,100)),diccionario_descuentos)))\n",
        "print(diccionario_descuentos)"
      ],
      "metadata": {
        "id": "L_TP1255eha-"
      },
      "execution_count": null,
      "outputs": []
    },
    {
      "cell_type": "markdown",
      "source": [
        "##Jaime Rueda\n"
      ],
      "metadata": {
        "id": "9nPnKATNeqjW"
      }
    },
    {
      "cell_type": "code",
      "source": [
        "#Comprension\n",
        "Productos={'Papas':1300,'Jugos':1800,'Helados':2300,'Dulces':800,'Leche':4200}\n",
        "Operación={x:y*1.19 for (x,y) in Productos.items()}\n",
        "print(f'El precio sin IVA de los productos es: {Productos}')\n",
        "print('<>'*60)\n",
        "print(f'El precio con IVA de los productos es: {Operación}')"
      ],
      "metadata": {
        "colab": {
          "base_uri": "https://localhost:8080/"
        },
        "id": "uhUtlNoYe3Fm",
        "outputId": "af0b7994-89c1-4464-82ab-6a1bd1aebd4e"
      },
      "execution_count": 1,
      "outputs": [
        {
          "output_type": "stream",
          "name": "stdout",
          "text": [
            "El precio sin IVA de los productos es: {'Papas': 1300, 'Jugos': 1800, 'Helados': 2300, 'Dulces': 800, 'Leche': 4200}\n",
            "<><><><><><><><><><><><><><><><><><><><><><><><><><><><><><><><><><><><><><><><><><><><><><><><><><><><><><><><><><><><>\n",
            "El precio con IVA de los productos es: {'Papas': 1547.0, 'Jugos': 2142.0, 'Helados': 2737.0, 'Dulces': 952.0, 'Leche': 4998.0}\n"
          ]
        }
      ]
    },
    {
      "cell_type": "code",
      "source": [
        "#Lambda\n",
        "tienda={'Papas':1300,'Jugos':1800,'Helados':2300,'Dulces':800,'Leche':4200}\n",
        "compra=['Papas','Jugos','Helados','Dulces','Leche']\n",
        "IVA=dict(map(lambda producto:(producto,tienda[producto]) if producto in tienda else (producto,None),compra))\n",
        "IVA"
      ],
      "metadata": {
        "colab": {
          "base_uri": "https://localhost:8080/"
        },
        "id": "bfRlrKNLfDiV",
        "outputId": "70324826-8b07-4022-f711-c60cada240ad"
      },
      "execution_count": 2,
      "outputs": [
        {
          "output_type": "execute_result",
          "data": {
            "text/plain": [
              "{'Papas': 1300, 'Jugos': 1800, 'Helados': 2300, 'Dulces': 800, 'Leche': 4200}"
            ]
          },
          "metadata": {},
          "execution_count": 2
        }
      ]
    },
    {
      "cell_type": "markdown",
      "source": [
        "##Juan David Vargas"
      ],
      "metadata": {
        "id": "fUYH8aiNgL6M"
      }
    },
    {
      "cell_type": "code",
      "source": [
        "Productos=['milk','bread','butter','apple','watermelon','banana','candy','water','ice cream','sugar']\n",
        "precio=[3,4,10,2,5,4.5,3.2,9,5,6.5]\n",
        "\n",
        "precio_productos = {Productos:precio for (Productos,precio) in zip(Productos,precio)}\n",
        "\n",
        "print(precio_productos)"
      ],
      "metadata": {
        "colab": {
          "base_uri": "https://localhost:8080/"
        },
        "id": "n3KS1aCNgOYh",
        "outputId": "df6621c9-c9c7-42dc-b3bf-6a2ae9cf5631"
      },
      "execution_count": 3,
      "outputs": [
        {
          "output_type": "stream",
          "name": "stdout",
          "text": [
            "{'milk': 3, 'bread': 4, 'butter': 10, 'apple': 2, 'watermelon': 5, 'banana': 4.5, 'candy': 3.2, 'water': 9, 'ice cream': 5, 'sugar': 6.5}\n"
          ]
        }
      ]
    },
    {
      "cell_type": "code",
      "source": [
        "Descuentos= {Productos:precio for (Productos, precio) in precio_productos.items() if precio<5}\n",
        "\n",
        "print(Descuentos)"
      ],
      "metadata": {
        "colab": {
          "base_uri": "https://localhost:8080/"
        },
        "id": "pRPSX4ExiF1T",
        "outputId": "3d7b7b9b-bd39-4ea4-a9ed-a67385774915"
      },
      "execution_count": 4,
      "outputs": [
        {
          "output_type": "stream",
          "name": "stdout",
          "text": [
            "{'milk': 3, 'bread': 4, 'apple': 2, 'banana': 4.5, 'candy': 3.2}\n"
          ]
        }
      ]
    },
    {
      "cell_type": "markdown",
      "source": [
        "##Leandro"
      ],
      "metadata": {
        "id": "59guG2Xjmb6v"
      }
    },
    {
      "cell_type": "code",
      "source": [
        "def check_temp(value):\n",
        "  if value>=70:\n",
        "    return \"hot\"\n",
        "  elif 69>=value>=40:\n",
        "    return \"warm\"\n",
        "  else:\n",
        "    return \"cold\"\n",
        "\n",
        "cities={\"New York\":32,\"Boston\":75,\"Los Angeles\":100,\"Chicago\":50}\n",
        "des_cities={key: check_temp(value) for (key,value) in cities.items()}\n",
        "print(des_cities)"
      ],
      "metadata": {
        "id": "PTyISI1jmdXO"
      },
      "execution_count": null,
      "outputs": []
    },
    {
      "cell_type": "code",
      "source": [
        "def check_temp(value):\n",
        "  if value>=70:\n",
        "    return \"hot\"\n",
        "  elif 69>=value>=40:\n",
        "    return \"warm\"\n",
        "  else:\n",
        "    return \"cold\"\n",
        "\n",
        "cities={\"New York\":32,\"Boston\":75,\"Los Angeles\":100,\"Chicago\":50}\n",
        "des_cities=dict(map(lambda cit: check_temp(cities.values(cit),cities.items())))"
      ],
      "metadata": {
        "id": "YdkjDCKVmdjF"
      },
      "execution_count": null,
      "outputs": []
    },
    {
      "cell_type": "markdown",
      "source": [
        "##Sebastian Zambrano"
      ],
      "metadata": {
        "id": "o_d6tx-dmmh-"
      }
    },
    {
      "cell_type": "code",
      "source": [
        "import random\n",
        "compañeros=[]\n",
        "def aleatorio(opciones):\n",
        "  opciones=list(opciones)\n",
        "  while True:\n",
        "    x=random.choice(opciones)\n",
        "    opciones.remove(x)\n",
        "    yield x\n",
        "print(\"Para no agregar más nombres escribe '0'\")\n",
        "a=\"t\"\n",
        "while a!='0':\n",
        "  a=(input(\"Ingresa el nombre de tu compañero: \"))\n",
        "  if a!=\"0\":\n",
        "    compañeros.append(a)\n",
        "cantidad=len(compañeros)\n",
        "contador=0\n",
        "números=[]\n",
        "while contador!=(cantidad+1):\n",
        "  contador+=1\n",
        "  números.append(contador)\n",
        "alt=aleatorio(números)\n",
        "num_alt={}\n",
        "for s in range(cantidad):\n",
        "  num_alt[compañeros[s]]=next(alt)\n",
        "print(num_alt)"
      ],
      "metadata": {
        "id": "BoVp2YGImoIN"
      },
      "execution_count": null,
      "outputs": []
    },
    {
      "cell_type": "code",
      "source": [
        "import random\n",
        "compañeros=[]\n",
        "def aleatorio(opciones):\n",
        "  opciones=list(opciones)\n",
        "  while True:\n",
        "    x=random.choice(opciones)\n",
        "    opciones.remove(x)\n",
        "    yield x\n",
        "print(\"Para no agregar más nombres escribe '0'\")\n",
        "a=\"t\"\n",
        "while a!='0':\n",
        "  a=(input(\"Ingresa el nombre de tu compañero: \"))\n",
        "  if a!=\"0\":\n",
        "    compañeros.append(a)\n",
        "cantidad=len(compañeros)\n",
        "números=[num for num in range(1,(cantidad+1))]\n",
        "alt=aleatorio(números)\n",
        "num_alt={orden:next(alt) for orden in compañeros}\n",
        "print(num_alt)"
      ],
      "metadata": {
        "id": "fbQ8V4fLmq-l"
      },
      "execution_count": null,
      "outputs": []
    },
    {
      "cell_type": "code",
      "source": [
        "import random\n",
        "compañeros=[]\n",
        "def aleatorio(opciones):\n",
        "  opciones=list(opciones)\n",
        "  while True:\n",
        "    x=random.choice(opciones)\n",
        "    opciones.remove(x)\n",
        "    yield x\n",
        "print(\"Para no agregar más nombres escribe '0'\")\n",
        "a=\"t\"\n",
        "while a!='0':\n",
        "  a=(input(\"Ingresa el nombre de tu compañero: \"))\n",
        "  if a!=\"0\":\n",
        "    compañeros.append(a)\n",
        "cantidad=len(compañeros)\n",
        "valores=[n for n in range (1,cantidad+1)]\n",
        "números=list(map(lambda num:num, valores))\n",
        "alt=aleatorio(números)\n",
        "num_alt=dict(map(lambda orden:(orden,next(alt)),compañeros))\n",
        "print(num_alt)"
      ],
      "metadata": {
        "id": "gTepwABomuJ1"
      },
      "execution_count": null,
      "outputs": []
    },
    {
      "cell_type": "markdown",
      "source": [
        "##Adrián Parra"
      ],
      "metadata": {
        "id": "3qkJZppzm9yd"
      }
    },
    {
      "cell_type": "code",
      "source": [
        "nombre=str(input(\"Ingrese el nombre del atleta: \"))\n",
        "N=int(input(\"Ingrese el número de saltos: \"))\n",
        "\n",
        "def fun(nombre, a):\n",
        "  lista=[]\n",
        "  for i in range(0,a):\n",
        "    name=str(f\"Salto {i+1}\")\n",
        "    lista.append(name)\n",
        "  \n",
        "  print(\"--------------\")\n",
        "  print(\"La altura de los saltos se mide en metros\")\n",
        "  dic_lista={lista: float(input(f\"Ingrese la altura del salto: \")) for lista in lista}\n",
        "  distancia=sorted(dic_lista.values())\n",
        "  mayor=distancia[-1]\n",
        "  print(\"--------------\")\n",
        "  print(f\"Atleta {nombre}:\")\n",
        "  print(dic_lista)\n",
        "  sum=0\n",
        "  for i in dic_lista.values():\n",
        "    sum+=i\n",
        "  prom=sum/a\n",
        "  redprom=round(prom, 2)\n",
        "  print(f\"El promedio de los {a} saltos es de {redprom} metros, teniendo que el mayor fue aquel con {mayor} metros de altura\")\n",
        "\n",
        "fun(nombre ,N)"
      ],
      "metadata": {
        "id": "GW_NHjeEm4Xl"
      },
      "execution_count": null,
      "outputs": []
    },
    {
      "cell_type": "code",
      "source": [
        "from functools import reduce\n",
        "\n",
        "nombre=str(input(\"Ingrese el nombre del atleta: \"))\n",
        "a=int(input(\"Ingrese el número de saltos: \"))\n",
        "\n",
        "\n",
        "lista=[]\n",
        "for i in range(0,a):\n",
        "  name=str(f\"Salto {i+1}\")\n",
        "  lista.append(name)\n",
        "  \n",
        "  \n",
        "print(\"--------------\")\n",
        "print(\"La altura de los saltos se mide en metros\")\n",
        "dic_lista=(dict(map(lambda x:(x, float(input(f\"Ingrese la altura del salto: \"))), lista)))\n",
        "distancia=sorted(dic_lista.values())\n",
        "mayor=distancia[-1]\n",
        "print(\"--------------\")\n",
        "print(f\"Atleta {nombre}:\")\n",
        "print(dic_lista)\n",
        "\n",
        "sum=reduce(lambda distancia,distancia1:distancia+distancia1, distancia)\n",
        "\n",
        "prom=float(sum)/a\n",
        "redprom=round(prom, 2)\n",
        "print(f\"El promedio de los {a} saltos es de {redprom} metros, teniendo que el mayor fue aquel con {mayor} metros de altura\")"
      ],
      "metadata": {
        "id": "KzvVdZBjnKbF"
      },
      "execution_count": null,
      "outputs": []
    },
    {
      "cell_type": "markdown",
      "source": [
        "##Daniel Rodriguez"
      ],
      "metadata": {
        "id": "EN6I2X3UnZfm"
      }
    },
    {
      "cell_type": "code",
      "source": [
        "import random\n",
        "diccionario=[\"cliente 1\",\"cliente 2\",\"cliente 3\",\"cliente 4\",\"cliente 5\"]\n",
        "tienda={diccionario: random.randint(1000,100000) for diccionario in diccionario}\n",
        "tienda_sort=sorted(tienda.values())\n",
        "mayor=tienda_sort[-1]\n",
        "mayor1=tienda_sort[4::]\n",
        "cliente=list(tienda.values()).index(mayor)\n",
        "if cliente==0:\n",
        "  a=\"cliente 1\"\n",
        "if cliente==1:\n",
        "  a=\"cliente 2\"\n",
        "if cliente==2:\n",
        "  a=\"cliente 3\"\n",
        "if cliente==3:\n",
        "  a=\"cliente 4\"\n",
        "if cliente==4:\n",
        "  a=\"cliente 5\"\n",
        "oferta={producto*0.8 for producto in mayor1}\n",
        "print(f\"El {a} tuvo la mayor compra con un valor de: {mayor}, por lo tanto obtuvo un descuento del 20%, su total fue: {oferta}\")"
      ],
      "metadata": {
        "id": "ObjEQVbIrGA3"
      },
      "execution_count": null,
      "outputs": []
    },
    {
      "cell_type": "code",
      "source": [
        "import random\n",
        "diccionario=[\"cliente 1\",\"cliente 2\",\"cliente 3\",\"cliente 4\",\"cliente 5\"]\n",
        "def cositas (a):\n",
        " tienda={diccionario: random.randint(1000,100000) for diccionario in diccionario}\n",
        " tienda_sort=sorted(tienda.values())\n",
        " mayor=tienda_sort[-1]\n",
        " mayor1=tienda_sort[4::]\n",
        " cliente=list(tienda.values()).index(mayor)\n",
        " if cliente==0:\n",
        "   a=\"cliente 1\"\n",
        " if cliente==1:\n",
        "   a=\"cliente 2\"\n",
        " if cliente==2:\n",
        "   a=\"cliente 3\"\n",
        " if cliente==3:\n",
        "   a=\"cliente 4\"\n",
        " if cliente==4:\n",
        "   a=\"cliente 5\"\n",
        " oferta={producto*0.8 for producto in mayor1}\n",
        " print(f\"El {a} tuvo la mayor compra con un valor de: {mayor}, por lo tanto obtuvo un descuento del 20%, su total fue: {oferta}\")\n",
        "cositas(diccionario)"
      ],
      "metadata": {
        "id": "lpy_v8YorHAN"
      },
      "execution_count": null,
      "outputs": []
    },
    {
      "cell_type": "code",
      "source": [
        "import random\n",
        "diccionario=[\"cliente 1\",\"cliente 2\",\"cliente 3\",\"cliente 4\",\"cliente 5\"]\n",
        "tienda=(dict(map(lambda tienda:(tienda,random.randint(1000,100000)),diccionario)))\n",
        "tienda_sort=sorted(tienda.values())\n",
        "mayor=tienda_sort[-1]\n",
        "mayor1=tienda_sort[4::]\n",
        "cliente=list(tienda.values()).index(mayor)\n",
        "oferta={producto*0.8 for producto in mayor1}\n",
        "def get_key (val):\n",
        "  for key,value in tienda.items():\n",
        "    if val==value:\n",
        "     return key\n",
        "print(f\"El {get_key(mayor)} tuvo la mayor compra con un valor de: {mayor}, por lo tanto obtuvo un descuento del 20%, su total fue: {oferta}\")"
      ],
      "metadata": {
        "id": "A_vvPZXprNjO"
      },
      "execution_count": null,
      "outputs": []
    },
    {
      "cell_type": "markdown",
      "source": [
        "##Santiago Galindo"
      ],
      "metadata": {
        "id": "6P2WR6SGrRZN"
      }
    },
    {
      "cell_type": "code",
      "source": [
        "import random\n",
        "cs = [\"Andru\",\"David\",\"Sebas\"] \n",
        "CS =[\"Andres\",\"Flowey\",\"Cata\",\"Karen\"]\n",
        "DD = {cs:random.randint(1,50) for cs in cs}\n",
        "DD1 = {CS:random.randint(1,50) for CS in CS}\n",
        "print(DD,DD1)\n",
        "for x in CS:\n",
        "  print(CS)\n",
        "for x in cs:\n",
        "  print(cs)"
      ],
      "metadata": {
        "id": "Pp8Z8tdfrX3O"
      },
      "execution_count": null,
      "outputs": []
    },
    {
      "cell_type": "code",
      "source": [
        "#Santiago Galindo\n",
        "import random\n",
        "def A ():\n",
        "  cs = [\"Andru\",\"David\",\"Sebas\"] \n",
        "  CS =[\"Andres\",\"Flowey\",\"Cata\",\"Karen\"]\n",
        "  DD = {cs:random.randint(1,50) for cs in cs}\n",
        "  DD1 ={CS:random.randint(1,50) for CS in CS}\n",
        "  return DD, DD1\n",
        "\n",
        "A()\n",
        "for x in CS:\n",
        "  print(CS)\n",
        "for x in cs:\n",
        "  print(cs)"
      ],
      "metadata": {
        "id": "WxAtzAI0rbK-"
      },
      "execution_count": null,
      "outputs": []
    },
    {
      "cell_type": "code",
      "source": [
        "import random\n",
        "cs =[\"Andru\",\"David\",\"Sebas\"] \n",
        "CS =[\"Andres\",\"Flowey\",\"Cata\",\"Karen\"]\n",
        "DD = (dict(map(lambda DD:(DD,random.randint(1,50)),cs)))\n",
        "DD1 = (dict(map(lambda DD1:(DD1,random.randint(1,50)),CS)))\n",
        "\n",
        "print(DD,DD1)\n",
        "for X in CS:\n",
        "  print(CS)\n",
        "for X in cs:\n",
        "  print(cs)"
      ],
      "metadata": {
        "id": "Qjmd4zsRrbqY"
      },
      "execution_count": null,
      "outputs": []
    },
    {
      "cell_type": "markdown",
      "source": [
        "##Juan Arenales"
      ],
      "metadata": {
        "id": "SmYRWSPDrdcW"
      }
    },
    {
      "cell_type": "code",
      "source": [
        "import pandas as pd\n",
        "import random\n",
        "def menu(C,E,N,n):\n",
        "  b=int(input(\"Menú:\\n1)Añadir contacto\\n2)Eliminar contacto\\n3)Lista de contacto\\n4)Darle emojis aleatorios\\n\"))\n",
        "  if b==1: #Añade contactos\n",
        "    d=input(\"Nombre: \") #Ingresa el nombre\n",
        "    f=d in N #Si el nombre ya esta en los contactos f es True, sino es false\n",
        "    while f==True:\n",
        "      d=input(\"Ya existe un contacto con ese nombre, escoja otro: \")\n",
        "      f=d in C[\"Nombre\"]\n",
        "    e=input(\"Número: \") #Ingresa el numero\n",
        "    N.append(d) #Añade el nombre a la lista N\n",
        "    n.append(e) #Añade el numero a la lista n\n",
        "  if b==2:# Elimina contactos\n",
        "    o=int(input(\"1)Eliminar por nombre\\n2)Eliminar por número\\n\")) #Da dos opciones para eliminar un contacto\n",
        "    if o==1: #Eliminar por nombre\n",
        "      d=input(\"Nombre: \") #Ingresa el nombre\n",
        "      f=d in N #Si el nombre ya esta en los contactos f es True, sino es false\n",
        "      if f==False:#Si ese contacto no existe en la lista\n",
        "        print(\"No existe un contacto con ese nombre\")\n",
        "      else:\n",
        "        i=N.index(d) #Busca la posición del Nombre\n",
        "        N.pop(i) #Elimina el nombre en esa posicion\n",
        "        n.pop(i) #Elimina el número en esa posicion\n",
        "    if o==2: #Eliminar por número\n",
        "      e=input(\"Número: \") #Ingresa el número\n",
        "      h= e in N #Si el numero ya esta en los contactos h es True, sino es false\n",
        "      if h==False: #Si ese contacto no existe en la lista\n",
        "        print(\"No existe un contacto con ese número\")\n",
        "      else:\n",
        "        i=n.index(e) #Busca la posición del Nombre\n",
        "        N.pop(i) #Elimina el nombre en esa posicion\n",
        "        n.pop(i) #Elimina el número en esa posicion\n",
        "  if b==3:#Imprime la lista de contactos\n",
        "    C={N[z]: n[z] for z in range(len(N)) }\n",
        "    print(C)\n",
        "  if b==4:#Le da emojis aleatorios a los contactos \n",
        "    C={N[z]: (n[z],E[random.randint(0,3)]) for z in range(len(N)) }\n",
        "    print(pd.DataFrame.from_dict(C)) #La imprime bonito con pandas\n",
        "\n",
        "  return C\n",
        "    \n",
        "C={}\n",
        "E=[\"B)\",\":)\",\"<3\",\">:v\"]#Emojis\n",
        "N=[\"juan\",\"Kyle\"]#Nombres default\n",
        "n=[\"453\",\"64782\"]#Números default\n",
        "\n",
        "a=True\n",
        "while a==True:\n",
        "  menu(C,E,N,n)"
      ],
      "metadata": {
        "id": "z1a9DutfsNTZ"
      },
      "execution_count": null,
      "outputs": []
    },
    {
      "cell_type": "code",
      "source": [
        "import pandas as pd\n",
        "import random\n",
        "def menu(C,E,N,n):\n",
        "  b=int(input(\"Menú:\\n1)Añadir contacto\\n2)Eliminar contacto\\n3)Lista de contacto\\n4)Darle emojis aleatorios\\n\"))\n",
        "  if b==1:\n",
        "    d=input(\"Nombre: \")\n",
        "    f=d in N\n",
        "    while f==True:\n",
        "      d=input(\"Ya existe un contacto con ese nombre, escoja otro: \")\n",
        "      f=d in C[\"Nombre\"]\n",
        "    e=input(\"Número: \")\n",
        "    N.append(d)\n",
        "    n.append(e)\n",
        "  if b==2:\n",
        "    o=int(input(\"1)Eliminar por nombre\\n2)Eliminar por número\\n\"))\n",
        "    if o==1:\n",
        "      d=input(\"Nombre: \")\n",
        "      f=d in N\n",
        "      if f==False:\n",
        "        print(\"No existe un contacto con ese nombre\")\n",
        "      else:\n",
        "        i=N.index(d)\n",
        "        N.pop(i)\n",
        "        n.pop(i)\n",
        "    if o==2:\n",
        "      e=input(\"Número: \")\n",
        "      h= e in N\n",
        "      if h==False:\n",
        "        print(\"No existe un contacto con ese número\")\n",
        "      else:\n",
        "        i=n.index(e)\n",
        "        N.pop(i)\n",
        "        n.pop(i)\n",
        "  if b==3:\n",
        "    C=dict(map(lambda Nombre:(Nombre,n[N.index(Nombre)]),N)) #Lambda  \n",
        "    print(C)\n",
        "  if b==4:\n",
        "    C=dict(map(lambda Nombre:(Nombre,(n[N.index(Nombre)],E[random.randint(0,3)])),N)) #Lambda\n",
        "    print(pd.DataFrame.from_dict(C))\n",
        "    \n",
        "  return C\n",
        "    \n",
        "C={}\n",
        "E=[\"B)\",\":)\",\"<3\",\">:v\"]\n",
        "N=[\"juan\",\"Kyle\"]\n",
        "n=[\"453\",\"64782\"]\n",
        "\n",
        "a=True\n",
        "while a==True:\n",
        "  menu(C,E,N,n)"
      ],
      "metadata": {
        "id": "kT3vE8q2sP15"
      },
      "execution_count": null,
      "outputs": []
    },
    {
      "cell_type": "code",
      "source": [
        "import pandas as pd\n",
        "import random\n",
        "def menu(C,E,N,n):\n",
        "  b=int(input(\"Menú:\\n1)Añadir contacto\\n2)Eliminar contacto\\n3)Lista de contacto\\n4)Darle emojis aleatorios\\n\"))\n",
        "  if b==1:\n",
        "    d=input(\"Nombre: \")\n",
        "    f=d in N\n",
        "    while f==True:\n",
        "      d=input(\"Ya existe un contacto con ese nombre, escoja otro: \")\n",
        "      f=d in C[\"Nombre\"]\n",
        "    e=input(\"Número: \")\n",
        "    N.append(d)\n",
        "    n.append(e)\n",
        "  if b==2:\n",
        "    o=int(input(\"1)Eliminar por nombre\\n2)Eliminar por número\\n\"))\n",
        "    if o==1:\n",
        "      d=input(\"Nombre: \")\n",
        "      f=d in N\n",
        "      if f==False:\n",
        "        print(\"No existe un contacto con ese nombre\")\n",
        "      else:\n",
        "        i=N.index(d)\n",
        "        N.pop(i)\n",
        "        n.pop(i)\n",
        "    if o==2:\n",
        "      e=input(\"Número: \")\n",
        "      h= e in N\n",
        "      if h==False:\n",
        "        print(\"No existe un contacto con ese número\")\n",
        "      else:\n",
        "        i=n.index(e)\n",
        "        N.pop(i)\n",
        "        n.pop(i)\n",
        "  if b==3:\n",
        "    l=len(N)\n",
        "    for a in range(l): #Tradicional\n",
        "      C[N[a]]=n[a] \n",
        "    print(C)\n",
        "  if b==4:\n",
        "    l=len(N)\n",
        "    for a in range(l):#Tradicional\n",
        "      C[N[a]]=(n[a],E[random.randint(0,3)])\n",
        "    print(pd.DataFrame.from_dict(C))\n",
        "\n",
        "  return C\n",
        "C={}\n",
        "E=[\"B)\",\":)\",\"<3\",\">:v\"]\n",
        "N=[\"juan\",\"Kyle\"]\n",
        "n=[\"453\",\"64782\"]\n",
        "\n",
        "a=True\n",
        "while a==True:\n",
        "  menu(C,E,N,n)"
      ],
      "metadata": {
        "id": "S2s6irxTsTTy"
      },
      "execution_count": null,
      "outputs": []
    },
    {
      "cell_type": "markdown",
      "source": [
        "##Juan Zuluaga"
      ],
      "metadata": {
        "id": "etILIHL6sfoj"
      }
    },
    {
      "cell_type": "code",
      "source": [
        "import random\n",
        "listado_numerico=[]\n",
        "while True:\n",
        "   nombres=str(input(\"¿Ingrese el nombre del cliente?: \"))\n",
        "   listado_numerico.append(nombres) \n",
        "   confirmador=str(input(\"¿Hubo mas clientes el día de hoy?: \"))\n",
        "   confirmador.lower()\n",
        "   if confirmador == \"no\":\n",
        "     break\n",
        "print(listado_numerico)\n",
        "catalogocomp={listado_numerico: random.randint(100,5000) for listado_numerico in listado_numerico}\n",
        "\n",
        "costes=sorted(catalogocomp)\n",
        "\n",
        "mayor=max(catalogocomp,key=catalogocomp.get)\n",
        "\n",
        "gastos= sum(catalogocomp.values())*0.8 if sum(catalogocomp.values())>10000 else sum(catalogocomp.values())\n",
        "print(mayor)\n",
        "\n",
        "descuentos_prod=[0.6,0.8,0.5]\n",
        "catalogo_descuentos={listado_numerico:random.choice(descuentos_prod)*random.randint(100,5000) for listado_numerico in listado_numerico if random.randint(100,5000)>4000  }\n",
        "\n",
        "\n",
        "catalogo_descuentos"
      ],
      "metadata": {
        "id": "YTOTC0QVsmPK"
      },
      "execution_count": null,
      "outputs": []
    }
  ]
}