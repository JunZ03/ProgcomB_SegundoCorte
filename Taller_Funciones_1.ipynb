{
  "nbformat": 4,
  "nbformat_minor": 0,
  "metadata": {
    "colab": {
      "provenance": [],
      "collapsed_sections": []
    },
    "kernelspec": {
      "name": "python3",
      "display_name": "Python 3"
    },
    "language_info": {
      "name": "python"
    }
  },
  "cells": [
    {
      "cell_type": "markdown",
      "source": [
        "#Taller Funciones python"
      ],
      "metadata": {
        "id": "_7DzhNN3cHpB"
      }
    },
    {
      "cell_type": "markdown",
      "source": [
        "##Punto1"
      ],
      "metadata": {
        "id": "YSusf6jqcNr5"
      }
    },
    {
      "cell_type": "code",
      "execution_count": 3,
      "metadata": {
        "colab": {
          "base_uri": "https://localhost:8080/"
        },
        "id": "mxtU5J2kcEAR",
        "outputId": "9f8b71dd-5923-4103-8615-c026d4a5ccf9"
      },
      "outputs": [
        {
          "output_type": "stream",
          "name": "stdout",
          "text": [
            "Ingrese el primer número: 10\n",
            "Ingrese el segundo número: 10\n",
            "son iguales\n"
          ]
        }
      ],
      "source": [
        "def mayor(a,b):\n",
        "  if a>b:\n",
        "    print(\"El primer número es el mayor\")\n",
        "    \n",
        "  elif b>a:\n",
        "    print(\"El segundo número es mayor al primero\")\n",
        "    \n",
        "  else:\n",
        "    print(\"son iguales\")\n",
        "\n",
        "\n",
        "num1=int(input(\"Ingrese el primer número: \"))\n",
        "num2=int(input(\"Ingrese el segundo número: \"))\n",
        "\n",
        "mayor(num1,num2)"
      ]
    },
    {
      "cell_type": "markdown",
      "source": [
        "#Punto2"
      ],
      "metadata": {
        "id": "b3h566n8djzW"
      }
    },
    {
      "cell_type": "code",
      "source": [
        "def mayor2(a,b,c):\n",
        "  if a>b and a>c:\n",
        "    print(\"El primer número es el mayor\")\n",
        "  elif b>a and b>c:\n",
        "    print(\"El segundo número es el mayor\")\n",
        "  elif c>a and c>b:\n",
        "    print(\"El segundo número es el mayor\")\n",
        "  else:\n",
        "      print(\"son iguales los tres números\")\n",
        "\n",
        "\n",
        "num1=int(input(\"Ingrese el primer número: \"))\n",
        "num2=int(input(\"Ingrese el segundo número: \"))\n",
        "num3=int(input(\"Ingrese el tercer número: \"))\n",
        "\n",
        "mayor2(num1,num2,num3)"
      ],
      "metadata": {
        "colab": {
          "base_uri": "https://localhost:8080/"
        },
        "id": "KvN7E9egdp8f",
        "outputId": "8cba99b5-0509-4fef-c405-f51aab17e811"
      },
      "execution_count": 7,
      "outputs": [
        {
          "output_type": "stream",
          "name": "stdout",
          "text": [
            "Ingrese el primer número: 8\n",
            "Ingrese el segundo número: 12\n",
            "Ingrese el tercer número: 6\n",
            "El segundo número es el mayor\n"
          ]
        }
      ]
    },
    {
      "cell_type": "markdown",
      "source": [
        "##Punto3"
      ],
      "metadata": {
        "id": "1gzCowophPei"
      }
    },
    {
      "cell_type": "code",
      "source": [
        "def sumar_lista(a,b,c):\n",
        "  milista=[a,b,c]\n",
        "  sumatoria=milista[0]+milista[1]+milista[2]\n",
        "  print(\"La suma de los elementos es: \",sumatoria)\n",
        "\n",
        "primero= int(input(\"Ingrese un número: \"))\n",
        "segundo= int(input(\"Ingrese un número: \"))\n",
        "tercero= int(input(\"Ingrese un número: \"))\n",
        "sumar_lista(primero,segundo,tercero)\n"
      ],
      "metadata": {
        "colab": {
          "base_uri": "https://localhost:8080/"
        },
        "id": "h23XMJrghd4o",
        "outputId": "7fb734fc-5910-43d0-8211-c38284cba5aa"
      },
      "execution_count": 9,
      "outputs": [
        {
          "output_type": "stream",
          "name": "stdout",
          "text": [
            "Ingrese un número9\n",
            "Ingrese un número5\n",
            "Ingrese un número23\n",
            "La suma de los elementos es:  37\n"
          ]
        }
      ]
    },
    {
      "cell_type": "markdown",
      "source": [
        "##Punto 4"
      ],
      "metadata": {
        "id": "7atI1VqjkMtU"
      }
    },
    {
      "cell_type": "code",
      "source": [
        "def sumar_lista(a,b,c,d):\n",
        "  milista=[a,b,c,d]\n",
        "  sumatoria=milista[0]+milista[1]+milista[2]+milista[3]\n",
        "  print(\"La suma de los elementos es: \",sumatoria)\n",
        "\n",
        "primero= int(input(\"Ingrese un número: \"))\n",
        "segundo= int(input(\"Ingrese un número: \"))\n",
        "tercero= int(input(\"Ingrese un número: \"))\n",
        "cuarto= int(input(\"Ingrese un número: \"))\n",
        "sumar_lista(primero,segundo,tercero,cuarto)"
      ],
      "metadata": {
        "colab": {
          "base_uri": "https://localhost:8080/"
        },
        "id": "CyVScYndkOl0",
        "outputId": "da7d5877-c54b-4b2b-a49c-76f04142d0b2"
      },
      "execution_count": 10,
      "outputs": [
        {
          "output_type": "stream",
          "name": "stdout",
          "text": [
            "Ingrese un número: 6\n",
            "Ingrese un número: 34\n",
            "Ingrese un número: 45\n",
            "Ingrese un número: 8\n",
            "La suma de los elementos es:  93\n"
          ]
        }
      ]
    },
    {
      "cell_type": "markdown",
      "source": [
        "#Punto5"
      ],
      "metadata": {
        "id": "5HDwAHaGko3E"
      }
    },
    {
      "cell_type": "code",
      "source": [
        "def sumar_listan(n):\n",
        "  listan=[]\n",
        "  sumlist=0\n",
        "  for i in range(0,n):\n",
        "    numero=int(input(\"Ingrese un número: \"))\n",
        "    listan.append(numero)\n",
        "    sumlist= sumlist+ listan[i]\n",
        "  print(listan)\n",
        "  print(sumlist)\n",
        "\n",
        "\n",
        "\n",
        "tamaño=int(input(\"ingrese el tamaño de su lista: \"))\n",
        "\n",
        "sumar_listan(tamaño)"
      ],
      "metadata": {
        "colab": {
          "base_uri": "https://localhost:8080/"
        },
        "id": "cwupz0z_ksU8",
        "outputId": "683672b1-03a9-4fae-8a42-4d8a278cecc3"
      },
      "execution_count": 26,
      "outputs": [
        {
          "output_type": "stream",
          "name": "stdout",
          "text": [
            "ingrese un número: 4\n",
            "Ingrese un número: 5\n",
            "Ingrese un número: 4\n",
            "Ingrese un número: 6\n",
            "Ingrese un número: 3\n",
            "[5, 4, 6, 3]\n",
            "18\n"
          ]
        }
      ]
    },
    {
      "cell_type": "markdown",
      "source": [
        "#Punto6"
      ],
      "metadata": {
        "id": "ZB1OEbUIr_aq"
      }
    },
    {
      "cell_type": "code",
      "source": [
        "def mult_lista(a,b,c):\n",
        "  milista=[a,b,c]\n",
        "  sumatoria=milista[0]*milista[1]*milista[2]\n",
        "  print(\"el producto de los elementos es: \",sumatoria)\n",
        "\n",
        "primero= int(input(\"Ingrese un número: \"))\n",
        "segundo= int(input(\"Ingrese un número: \"))\n",
        "tercero= int(input(\"Ingrese un número: \"))\n",
        "mult_lista(primero,segundo,tercero)"
      ],
      "metadata": {
        "colab": {
          "base_uri": "https://localhost:8080/"
        },
        "id": "2dTDSfWOsA5K",
        "outputId": "b7d15d29-e632-40ab-fbe2-6c9ade9ca305"
      },
      "execution_count": 27,
      "outputs": [
        {
          "output_type": "stream",
          "name": "stdout",
          "text": [
            "Ingrese un número: 4\n",
            "Ingrese un número: 6\n",
            "Ingrese un número: 2\n",
            "La suma de los elementos es:  48\n"
          ]
        }
      ]
    },
    {
      "cell_type": "markdown",
      "source": [
        "#Punto7"
      ],
      "metadata": {
        "id": "vg37GBtIsdmA"
      }
    },
    {
      "cell_type": "code",
      "source": [
        "def multiplicacion_lista(a,b,c,d):\n",
        "  milista=[a,b,c,d]\n",
        "  sumatoria=milista[0]*milista[1]*milista[2]*milista[3]\n",
        "  print(\"La multiplicación de los elementos es: \",sumatoria)\n",
        "\n",
        "primero= int(input(\"Ingrese un número: \"))\n",
        "segundo= int(input(\"Ingrese un número: \"))\n",
        "tercero= int(input(\"Ingrese un número: \"))\n",
        "cuarto= int(input(\"Ingrese un número: \"))\n",
        "multiplicacion_lista(primero,segundo,tercero,cuarto)"
      ],
      "metadata": {
        "colab": {
          "base_uri": "https://localhost:8080/"
        },
        "id": "03D2mdOJsiuA",
        "outputId": "a11c1251-8c6f-4371-af1f-86180694e1e9"
      },
      "execution_count": 28,
      "outputs": [
        {
          "output_type": "stream",
          "name": "stdout",
          "text": [
            "Ingrese un número: 5\n",
            "Ingrese un número: 2\n",
            "Ingrese un número: 3\n",
            "Ingrese un número: 5\n",
            "La multiplicación de los elementos es:  150\n"
          ]
        }
      ]
    },
    {
      "cell_type": "markdown",
      "source": [
        "#Punto8"
      ],
      "metadata": {
        "id": "jretSBpzs9-3"
      }
    },
    {
      "cell_type": "code",
      "source": [
        "def producto_listan(n):\n",
        "  listan=[]\n",
        "  multlist=1\n",
        "  for i in range(0,n):\n",
        "    numero=int(input(\"Ingrese un número: \"))\n",
        "    listan.append(numero)\n",
        "    multlist= multlist* listan[i]\n",
        "  print(listan)\n",
        "  print(\"El producto de los elementos de la lista es: \",multlist)\n",
        "\n",
        "\n",
        "\n",
        "tamaño=int(input(\"ingrese el tamaño de su lista: \"))\n",
        "\n",
        "producto_listan(tamaño)"
      ],
      "metadata": {
        "colab": {
          "base_uri": "https://localhost:8080/"
        },
        "id": "rMfFUjWRs_jH",
        "outputId": "959696f8-4764-4e7e-b6a9-d51bf31fff2b"
      },
      "execution_count": 29,
      "outputs": [
        {
          "output_type": "stream",
          "name": "stdout",
          "text": [
            "ingrese el tamaño de su lista: 5\n",
            "Ingrese un número: 2\n",
            "Ingrese un número: 3\n",
            "Ingrese un número: 4\n",
            "Ingrese un número: 1\n",
            "Ingrese un número: 4\n",
            "[2, 3, 4, 1, 4]\n",
            "El producto de los elementos de la lista es:  96\n"
          ]
        }
      ]
    },
    {
      "cell_type": "markdown",
      "source": [
        "#Punto9"
      ],
      "metadata": {
        "id": "5oLt7FZMxKKC"
      }
    },
    {
      "cell_type": "code",
      "source": [
        "def inversopalabra(Str):\n",
        "  caracteres=len(Str)\n",
        "  inverso= Str[caracteres::-1]\n",
        "  print(inverso)\n",
        "\n",
        "elemento=str(input(\"Introduce la palabra que deseas invertir: \"))\n",
        "\n",
        "inversopalabra(elemento)"
      ],
      "metadata": {
        "colab": {
          "base_uri": "https://localhost:8080/"
        },
        "id": "IbFlEIRIxLia",
        "outputId": "abd4eaa7-b763-4bf8-fd51-3cc93b2aece8"
      },
      "execution_count": 38,
      "outputs": [
        {
          "output_type": "stream",
          "name": "stdout",
          "text": [
            "Introduce la palabra que deseas invertirperico\n",
            "ocirep\n"
          ]
        }
      ]
    },
    {
      "cell_type": "markdown",
      "source": [
        "#Punto10"
      ],
      "metadata": {
        "id": "2CZV-PJbt3ym"
      }
    },
    {
      "cell_type": "code",
      "source": [
        "def factorial(n):\n",
        "  \n",
        "  multlist=1\n",
        "  for i in range(0,n):\n",
        "    multlist= multlist* (i+1)\n",
        "  print(\"El producto de los elementos de la lista es: \",multlist)\n",
        "\n",
        "\n",
        "\n",
        "tamaño=int(input(\"¿De que numero desea saber su factorial?: \"))\n",
        "\n",
        "factorial(tamaño)"
      ],
      "metadata": {
        "colab": {
          "base_uri": "https://localhost:8080/"
        },
        "id": "Im4A1o1ft5iu",
        "outputId": "7a8622fd-e28d-42ee-e937-1da6a351c9b3"
      },
      "execution_count": 37,
      "outputs": [
        {
          "output_type": "stream",
          "name": "stdout",
          "text": [
            "¿De que numero desea saber su factorial?: 9\n",
            "El producto de los elementos de la lista es:  362880\n"
          ]
        }
      ]
    }
  ]
}