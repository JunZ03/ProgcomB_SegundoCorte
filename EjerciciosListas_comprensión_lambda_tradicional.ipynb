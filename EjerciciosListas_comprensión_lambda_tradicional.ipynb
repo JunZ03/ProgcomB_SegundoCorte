{
  "nbformat": 4,
  "nbformat_minor": 0,
  "metadata": {
    "colab": {
      "provenance": []
    },
    "kernelspec": {
      "name": "python3",
      "display_name": "Python 3"
    },
    "language_info": {
      "name": "python"
    }
  },
  "cells": [
    {
      "cell_type": "markdown",
      "source": [
        "#Listas"
      ],
      "metadata": {
        "id": "Qars1I6yoZHK"
      }
    },
    {
      "cell_type": "markdown",
      "source": [
        "##1. Samuelle"
      ],
      "metadata": {
        "id": "Kqn1k3x5ohXp"
      }
    },
    {
      "cell_type": "code",
      "source": [
        "numbers=[1,2,3,4]\n",
        "results=[]\n",
        "for n in numbers:\n",
        "  results.append(n+1)\n",
        "results"
      ],
      "metadata": {
        "colab": {
          "base_uri": "https://localhost:8080/"
        },
        "id": "XrAnHVfho00w",
        "outputId": "9ef6e9d5-38c1-4c50-d0bd-a109546a239a"
      },
      "execution_count": null,
      "outputs": [
        {
          "output_type": "execute_result",
          "data": {
            "text/plain": [
              "[2, 3, 4, 5]"
            ]
          },
          "metadata": {},
          "execution_count": 6
        }
      ]
    },
    {
      "cell_type": "code",
      "source": [
        "numbers=[1,2,3,4]\n",
        "results=[n+1 for n in numbers if n<5]\n",
        "results"
      ],
      "metadata": {
        "colab": {
          "base_uri": "https://localhost:8080/"
        },
        "id": "ClIQzngPok84",
        "outputId": "14b69020-5200-4ff9-a09f-89794957e734"
      },
      "execution_count": null,
      "outputs": [
        {
          "output_type": "execute_result",
          "data": {
            "text/plain": [
              "[2, 3, 4, 5]"
            ]
          },
          "metadata": {},
          "execution_count": 4
        }
      ]
    },
    {
      "cell_type": "code",
      "source": [
        "results2=lambda numbers:results\n",
        "print(results2(numbers))"
      ],
      "metadata": {
        "colab": {
          "base_uri": "https://localhost:8080/"
        },
        "id": "Lo1IifG4on8o",
        "outputId": "feb238e6-0ceb-4b92-b3d3-9043ba09c79c"
      },
      "execution_count": null,
      "outputs": [
        {
          "output_type": "stream",
          "name": "stdout",
          "text": [
            "[2, 3, 4, 5]\n"
          ]
        }
      ]
    },
    {
      "cell_type": "markdown",
      "source": [
        "##2. Jesus Lobo"
      ],
      "metadata": {
        "id": "X7qE2gBUobyZ"
      }
    },
    {
      "cell_type": "code",
      "execution_count": null,
      "metadata": {
        "colab": {
          "base_uri": "https://localhost:8080/"
        },
        "id": "TRyX-pfEn5Ss",
        "outputId": "21a6012b-834a-46b1-97fe-c8fae1b4d075"
      },
      "outputs": [
        {
          "output_type": "stream",
          "name": "stdout",
          "text": [
            "Hasta que número quieres imprimir los pares e impares: 20\n",
            "[0, 2, 4, 6, 8, 10, 12, 14, 16, 18, 20]\n",
            "[1, 3, 5, 7, 9, 11, 13, 15, 17, 19]\n"
          ]
        }
      ],
      "source": [
        "n=int(input(\"Hasta que número quieres imprimir los pares e impares: \"))\n",
        "pares=[número for número in range(0,n+1) if número%2==0]\n",
        "print(pares)\n",
        "impares=[número for número in range(0,n+1) if número%2!=0]\n",
        "print(impares)"
      ]
    },
    {
      "cell_type": "code",
      "source": [
        "num=int(input(\"Hasta que número quieres imprimir los pares e impares: \"))\n",
        "def hola(n):\n",
        "  pares=[número for número in range(0,n+1) if número%2==0]\n",
        "  print(pares)\n",
        "  impares=[número for número in range(0,n+1) if número%2!=0]\n",
        "  print(impares)\n",
        "hola(num)"
      ],
      "metadata": {
        "colab": {
          "base_uri": "https://localhost:8080/"
        },
        "id": "xddJwPhBn7jK",
        "outputId": "3db5e5ac-647c-43de-f50b-ea566cacf5e8"
      },
      "execution_count": null,
      "outputs": [
        {
          "output_type": "stream",
          "name": "stdout",
          "text": [
            "Hasta que número quieres imprimir los pares e impares: 20\n",
            "[0, 2, 4, 6, 8, 10, 12, 14, 16, 18, 20]\n",
            "[1, 3, 5, 7, 9, 11, 13, 15, 17, 19]\n"
          ]
        }
      ]
    },
    {
      "cell_type": "code",
      "source": [
        "num=int(input(\"Hasta que número quieres imprimir los pares e impares: \"))\n",
        "mi_lista=[n for n in range(0,num+1)]\n",
        "impares=list(filter(lambda num:num%2==0,mi_lista))\n",
        "print(pares)\n",
        "pares=list(filter(lambda num:num%2!=0,mi_lista))\n",
        "print(impares)"
      ],
      "metadata": {
        "colab": {
          "base_uri": "https://localhost:8080/"
        },
        "id": "a-THzrrjn8Hi",
        "outputId": "be71fcec-d2ff-457d-c40e-5957c23934e1"
      },
      "execution_count": null,
      "outputs": [
        {
          "output_type": "stream",
          "name": "stdout",
          "text": [
            "Hasta que número quieres imprimir los pares e impares: 20\n",
            "[0, 2, 4, 6, 8, 10, 12, 14, 16, 18, 20]\n",
            "[0, 2, 4, 6, 8, 10, 12, 14, 16, 18, 20]\n"
          ]
        }
      ]
    },
    {
      "cell_type": "markdown",
      "source": [
        "##3. Jhonsito"
      ],
      "metadata": {
        "id": "HPSiXRVlo6QY"
      }
    },
    {
      "cell_type": "code",
      "source": [
        "def perfecto(número):\n",
        "  perf=0\n",
        "  for i in range(1,número):\n",
        "    if número%i==0:\n",
        "      perf+=i\n",
        "  if perf==número:\n",
        "    print(\"es número perfecto\")\n",
        "    return True\n",
        "  else:\n",
        "    print(\"no es número perfecto\")\n",
        "número=6\n",
        "perfecto(número)"
      ],
      "metadata": {
        "colab": {
          "base_uri": "https://localhost:8080/"
        },
        "id": "6qVgsz8eo9aY",
        "outputId": "6813d752-f246-4f1f-c99b-5057d85ff3a7"
      },
      "execution_count": null,
      "outputs": [
        {
          "output_type": "stream",
          "name": "stdout",
          "text": [
            "es número perfecto\n"
          ]
        },
        {
          "output_type": "execute_result",
          "data": {
            "text/plain": [
              "True"
            ]
          },
          "metadata": {},
          "execution_count": 10
        }
      ]
    },
    {
      "cell_type": "code",
      "source": [
        "def números():\n",
        "  a=int(input(\"Ingresa un número: \"))\n",
        "  b=int(input(\"Ingresa un número: \"))\n",
        "  c=int(input(\"Ingresa un número: \"))\n",
        "  d=int(input(\"Ingresa un número: \"))\n",
        "  perfect=[a,b,c,d]\n",
        "  perfect1=[elemento for elemento in perfect if perfecto(elemento)==True]\n",
        "\n",
        "números()"
      ],
      "metadata": {
        "colab": {
          "base_uri": "https://localhost:8080/"
        },
        "id": "lm40UDBfpCyn",
        "outputId": "b114a779-334c-467d-a110-95bbd639dd09"
      },
      "execution_count": null,
      "outputs": [
        {
          "output_type": "stream",
          "name": "stdout",
          "text": [
            "Ingresa un número: 1\n",
            "Ingresa un número: 2\n",
            "Ingresa un número: 3\n",
            "Ingresa un número: 6\n",
            "no es número perfecto\n",
            "no es número perfecto\n",
            "no es número perfecto\n",
            "es número perfecto\n"
          ]
        }
      ]
    },
    {
      "cell_type": "code",
      "source": [
        "lista=[2,3,6,4]\n",
        "perfect2=list(map(lambda elemento:perfecto(elemento)==True,lista))\n",
        "perfect2"
      ],
      "metadata": {
        "colab": {
          "base_uri": "https://localhost:8080/"
        },
        "id": "NdkvhejZpGlv",
        "outputId": "ef57044e-81dd-493e-9dbc-31635be7bbe9"
      },
      "execution_count": null,
      "outputs": [
        {
          "output_type": "stream",
          "name": "stdout",
          "text": [
            "no es número perfecto\n",
            "no es número perfecto\n",
            "es número perfecto\n",
            "no es número perfecto\n"
          ]
        },
        {
          "output_type": "execute_result",
          "data": {
            "text/plain": [
              "[False, False, True, False]"
            ]
          },
          "metadata": {},
          "execution_count": 13
        }
      ]
    },
    {
      "cell_type": "markdown",
      "source": [
        "##4. Juandivox"
      ],
      "metadata": {
        "id": "8qPrW8JrpYof"
      }
    },
    {
      "cell_type": "code",
      "source": [
        "import random\n",
        "numero1=[random.randint(0,2000) for x in range(100)]\n",
        "numero2=[random.randint(0,2000) for x in range(100)]\n",
        "comun=[]\n",
        "for a in numero1:\n",
        "  for b in numero2:\n",
        "    if a==b:\n",
        "      comun.append(a)\n",
        "print(comun)"
      ],
      "metadata": {
        "colab": {
          "base_uri": "https://localhost:8080/"
        },
        "id": "lwCK8Q4mpaUv",
        "outputId": "a6ba3338-b938-49c8-c875-d7952f8ef99b"
      },
      "execution_count": null,
      "outputs": [
        {
          "output_type": "stream",
          "name": "stdout",
          "text": [
            "[765, 389, 389, 490]\n"
          ]
        }
      ]
    },
    {
      "cell_type": "code",
      "source": [
        "import random\n",
        "numero1=[random.randint(0,2000) for x in range(100)]\n",
        "numero2=[random.randint(0,2000) for x in range(100)]\n",
        "comun=[]\n",
        "comun=list(filter(lambda num:num in numero1, numero2))\n",
        "print(comun)"
      ],
      "metadata": {
        "colab": {
          "base_uri": "https://localhost:8080/"
        },
        "id": "Se48L2EnptYX",
        "outputId": "d3d89762-d2d1-4ad3-d300-a143fcaf8720"
      },
      "execution_count": null,
      "outputs": [
        {
          "output_type": "stream",
          "name": "stdout",
          "text": [
            "[593, 954, 1050, 1383, 1022, 534, 1752]\n"
          ]
        }
      ]
    },
    {
      "cell_type": "code",
      "source": [
        "import random\n",
        "numero1=[random.randint(0,2000) for x in range(100)]\n",
        "numero2=[random.randint(0,2000) for x in range(100)]\n",
        "comun=[x for x in numero1 for y in numero2 if x==y]\n",
        "print(comun)"
      ],
      "metadata": {
        "colab": {
          "base_uri": "https://localhost:8080/"
        },
        "id": "SiToKN-uqPhm",
        "outputId": "c5d01b72-8d23-40f7-ae47-3ece887c5732"
      },
      "execution_count": null,
      "outputs": [
        {
          "output_type": "stream",
          "name": "stdout",
          "text": [
            "[751, 1536, 433, 1643, 840, 751]\n"
          ]
        }
      ]
    },
    {
      "cell_type": "markdown",
      "source": [
        "##5. Daniel Alarcón"
      ],
      "metadata": {
        "id": "uX8MSzAIs_k4"
      }
    },
    {
      "cell_type": "code",
      "source": [
        "def square(num):\n",
        "  return num**2\n",
        "print(square(5))"
      ],
      "metadata": {
        "colab": {
          "base_uri": "https://localhost:8080/"
        },
        "id": "oWGjunNKtDmY",
        "outputId": "300c019a-0f7f-4681-c453-5ec12c4008d0"
      },
      "execution_count": null,
      "outputs": [
        {
          "output_type": "stream",
          "name": "stdout",
          "text": [
            "25\n"
          ]
        }
      ]
    },
    {
      "cell_type": "code",
      "source": [
        "L=[1,2,3,4]\n",
        "L2=[n**2 for n in L]\n",
        "print(L2)"
      ],
      "metadata": {
        "colab": {
          "base_uri": "https://localhost:8080/"
        },
        "id": "K_bmlMg3tRav",
        "outputId": "55b0432a-3555-43a8-cf03-8ded9ae4fd7e"
      },
      "execution_count": null,
      "outputs": [
        {
          "output_type": "stream",
          "name": "stdout",
          "text": [
            "[1, 4, 9, 16]\n"
          ]
        }
      ]
    },
    {
      "cell_type": "code",
      "source": [
        "lambda_fun= lambda x:x**2\n",
        "lambda_fun(3)"
      ],
      "metadata": {
        "colab": {
          "base_uri": "https://localhost:8080/"
        },
        "id": "WILDt32utglX",
        "outputId": "a135facf-df11-40f1-9289-d4608d5e2612"
      },
      "execution_count": null,
      "outputs": [
        {
          "output_type": "execute_result",
          "data": {
            "text/plain": [
              "9"
            ]
          },
          "metadata": {},
          "execution_count": 25
        }
      ]
    },
    {
      "cell_type": "markdown",
      "source": [
        "##6. Angie"
      ],
      "metadata": {
        "id": "RsayH_VettE8"
      }
    },
    {
      "cell_type": "code",
      "source": [
        "nom1=[\"Samuelle\",\"Angie\",\"Valentina\",\"Alejandro\", \"Jhonsito\"]\n",
        "nom2=[\"Samuelle\",\"Andrea\",\"Samdra\",\"Anderson\", \"Jhonsito\"]"
      ],
      "metadata": {
        "id": "a3Jc2D_Etuv9"
      },
      "execution_count": null,
      "outputs": []
    },
    {
      "cell_type": "code",
      "source": [
        "common={a for a in nom1 for b in nom2 if a==b}\n",
        "common"
      ],
      "metadata": {
        "colab": {
          "base_uri": "https://localhost:8080/"
        },
        "id": "8mRb3QYbuC7b",
        "outputId": "3ab4a087-3c91-406f-e299-2ab1d134ca25"
      },
      "execution_count": null,
      "outputs": [
        {
          "output_type": "execute_result",
          "data": {
            "text/plain": [
              "{'Jhonsito', 'Samuelle'}"
            ]
          },
          "metadata": {},
          "execution_count": 28
        }
      ]
    },
    {
      "cell_type": "code",
      "source": [
        "common1=lambda nom1, nom2:common\n",
        "print(common1(nom1,nom2))\n"
      ],
      "metadata": {
        "colab": {
          "base_uri": "https://localhost:8080/"
        },
        "id": "3JlUfGgDuNaM",
        "outputId": "c9d98b82-b7de-4f41-ad5e-70db22584fd9"
      },
      "execution_count": null,
      "outputs": [
        {
          "output_type": "stream",
          "name": "stdout",
          "text": [
            "{'Jhonsito', 'Samuelle'}\n"
          ]
        }
      ]
    },
    {
      "cell_type": "code",
      "source": [
        "def common(nom1,nom2):\n",
        "  return nom1,nom2\n",
        "common(nom1,nom2)"
      ],
      "metadata": {
        "colab": {
          "base_uri": "https://localhost:8080/"
        },
        "id": "g9q6ep7-ubvj",
        "outputId": "46f6f8ff-26a2-4865-e89a-a61b6552e0c1"
      },
      "execution_count": null,
      "outputs": [
        {
          "output_type": "execute_result",
          "data": {
            "text/plain": [
              "(['Samuelle', 'Angie', 'Valentina', 'Alejandro', 'Jhonsito'],\n",
              " ['Samuelle', 'Andrea', 'Samdra', 'Anderson', 'Jhonsito'])"
            ]
          },
          "metadata": {},
          "execution_count": 32
        }
      ]
    },
    {
      "cell_type": "markdown",
      "source": [
        "##7. Valentina"
      ],
      "metadata": {
        "id": "nlVMgk9r1HvQ"
      }
    },
    {
      "cell_type": "code",
      "source": [
        "def listaIMC(usuarios):\n",
        "  sis=[]\n",
        "  imc=[]\n",
        "  b=0\n",
        "  a2=0\n",
        "  for n in range(usuarios):\n",
        "    w=input(\"¿Cuál es tu nombre?\")\n",
        "    b=int(input(\"Ingresa el peso: \"))\n",
        "    a2=int(input(\"Ingresa la altura: \"))\n",
        "    sis.append((w,b/a2**2))\n",
        "    imc.append(b/a2**2)\n",
        "  return sis,imc\n",
        "user=int(input(\"¿Cuántos usuarios hay?: \"))\n",
        "sis,imc=listaIMC(user)\n",
        "imc"
      ],
      "metadata": {
        "colab": {
          "base_uri": "https://localhost:8080/"
        },
        "id": "7VQy6fAk1oku",
        "outputId": "e6a88a6e-e769-4a66-a237-bb2807f6212c"
      },
      "execution_count": null,
      "outputs": [
        {
          "name": "stdout",
          "output_type": "stream",
          "text": [
            "¿Cuántos usuarios hay?: 3\n",
            "¿Cuál es tu nombre?A\n",
            "Ingresa el peso: 3\n",
            "Ingresa la altura: 54\n",
            "¿Cuál es tu nombre?B\n",
            "Ingresa el peso: 43\n",
            "Ingresa la altura: 213\n",
            "¿Cuál es tu nombre?C\n",
            "Ingresa el peso: 54\n",
            "Ingresa la altura: 321\n"
          ]
        },
        {
          "output_type": "execute_result",
          "data": {
            "text/plain": [
              "[0.00102880658436214, 0.0009477837289779365, 0.000524063236963927]"
            ]
          },
          "metadata": {},
          "execution_count": 33
        }
      ]
    },
    {
      "cell_type": "code",
      "source": [
        "sis=listaIMC(user)\n",
        "sis2=[n for n in imc if n>=18.5]\n",
        "print(sis2)"
      ],
      "metadata": {
        "colab": {
          "base_uri": "https://localhost:8080/"
        },
        "id": "EGnAdlTd1yYg",
        "outputId": "3184e57e-9c13-4480-c2c6-90e2f6219394"
      },
      "execution_count": null,
      "outputs": [
        {
          "output_type": "stream",
          "name": "stdout",
          "text": [
            "¿Cuál es tu nombre?Adrian\n",
            "Ingresa el peso: 67\n",
            "Ingresa la altura: 175\n",
            "¿Cuál es tu nombre?b\n",
            "Ingresa el peso: 343\n",
            "Ingresa la altura: 5423\n",
            "¿Cuál es tu nombre?r\n",
            "Ingresa el peso: 432\n",
            "Ingresa la altura: 54\n",
            "[]\n"
          ]
        }
      ]
    },
    {
      "cell_type": "code",
      "source": [
        "sis"
      ],
      "metadata": {
        "colab": {
          "base_uri": "https://localhost:8080/"
        },
        "id": "MCXOgq8n10iA",
        "outputId": "3621d63a-049e-41eb-be1e-85d4084093dd"
      },
      "execution_count": null,
      "outputs": [
        {
          "output_type": "execute_result",
          "data": {
            "text/plain": [
              "([('Adrian', 0.0021877551020408163),\n",
              "  ('b', 1.1663124488484433e-05),\n",
              "  ('r', 0.14814814814814814)],\n",
              " [0.0021877551020408163, 1.1663124488484433e-05, 0.14814814814814814])"
            ]
          },
          "metadata": {},
          "execution_count": 35
        }
      ]
    },
    {
      "cell_type": "code",
      "source": [
        "sis3=list(map(lambda x:\"peso insuficiente\" if x<18.5 else \"peso normal\" if (x>=18.5 and x<24.9) else \"sobrepeso\" if (x>=24.9 and x<30) else \"obesidad\",imc))\n",
        "sis3"
      ],
      "metadata": {
        "colab": {
          "base_uri": "https://localhost:8080/"
        },
        "id": "SEUSQHaa11mn",
        "outputId": "efd6eea7-daa7-4d0f-b84f-1769524d7fe7"
      },
      "execution_count": null,
      "outputs": [
        {
          "output_type": "execute_result",
          "data": {
            "text/plain": [
              "['peso insuficiente', 'peso insuficiente', 'peso insuficiente']"
            ]
          },
          "metadata": {},
          "execution_count": 36
        }
      ]
    },
    {
      "cell_type": "markdown",
      "source": [
        "##8. Lewis"
      ],
      "metadata": {
        "id": "jzhSJvzT2W7O"
      }
    },
    {
      "cell_type": "code",
      "source": [
        "print(\"Ingresa su código: \")\n",
        "caracter=input()\n",
        "if len(caracter)==8:\n",
        "  if caracter[0]=='u':\n",
        "    print(\"Eres estudiante de la Unab\")\n",
        "  elif(caracter.starswith(\"a000\")):\n",
        "    print(\"Eres estudiante de los Andes\")\n",
        "  else:\n",
        "    if(int(caracter)>=1950):\n",
        "      print(\"Eres estudiante de la UIS\")\n",
        "else:\n",
        "  print(\"No corresponde a ninguna universidad, revisa tu código\")"
      ],
      "metadata": {
        "id": "fl7BVlmx2Wbl"
      },
      "execution_count": null,
      "outputs": []
    },
    {
      "cell_type": "code",
      "source": [
        "universidades=[\"unab\",\"uis\",\"andes\"]\n",
        "codigo=[\"U0015741\",\"198076\",\"a0005437\"]\n",
        "u=[cod for cod in codigo if (cod[0]=='U' and len(cod)==8)]\n",
        "print(u)"
      ],
      "metadata": {
        "id": "cdbJYn7qdF3T"
      },
      "execution_count": null,
      "outputs": []
    },
    {
      "cell_type": "code",
      "source": [
        "y=list(map(lambda x:\"unab\" if (x[0]=='U' or x[0]=='u') else None,codigo))\n",
        "print(y)"
      ],
      "metadata": {
        "id": "rMGO-jUddJXK"
      },
      "execution_count": null,
      "outputs": []
    },
    {
      "cell_type": "markdown",
      "source": [
        "##Cristhian"
      ],
      "metadata": {
        "id": "okp1Boo_dKoZ"
      }
    },
    {
      "cell_type": "code",
      "source": [
        "def funcion(lista, numDigitos, universidad,clasCodigo):\n",
        "  clasi=[a for a in lista if a.startswith(clasCodigo) and len(a)==numDigitos]\n",
        "  print(f'Hay {len(clasi)} estudiante(s) de {universidad} y sus codigo(s) son {clasi}')\n",
        "\n",
        "lista=[]\n",
        "x=0\n",
        "while x==0:\n",
        "  entrada=input(\"Ingresa un codigo: \")\n",
        "  lista.append(entrada)\n",
        "  a=int(input(\"¿Deseas ingresar otro? Ingresa 0 si lo deseas,sino ingresa 1: \"))\n",
        "  if (a==1):\n",
        "    x=x+1\n",
        "\n",
        "funcion(lista,9,'la Unab','U00')\n",
        "funcion(lista,9,'los Andes','A000')"
      ],
      "metadata": {
        "id": "D4How_88dOok"
      },
      "execution_count": null,
      "outputs": []
    },
    {
      "cell_type": "code",
      "source": [
        "lista=[]\n",
        "x=0\n",
        "while x==0:\n",
        "  entrada=input(\"Ingresa un codigo: \")\n",
        "  lista.append(entrada)\n",
        "  a=int(input(\"¿Deseas ingresar otro? Ingresa 0 si lo deseas,sino ingresa 1: \"))\n",
        "  if (a==1):\n",
        "    x=x+1\n",
        "\n",
        "clasificacion=[a for a in lista if a.startswith(\"U00\") and len(a)==9]\n",
        "print(f'Hay {len(clasificacion)} estudiante(s) de la Unab y sus codigo(s) son {clasificacion}')\n",
        "clasificacion=[a for a in lista if a.startswith(\"A000\") and len(a)==9]\n",
        "print(f'Hay {len(clasificacion)} estudiante(s) de los Andes y sus codigo(s) son {clasificacion}')"
      ],
      "metadata": {
        "id": "lU4MWHMcdR_Z"
      },
      "execution_count": null,
      "outputs": []
    },
    {
      "cell_type": "code",
      "source": [
        "lista=[]\n",
        "x=0\n",
        "while x==0:\n",
        "  entrada=input(\"Ingresa un codigo: \")\n",
        "  lista.append(entrada)\n",
        "  a=int(input(\"¿Deseas ingresar otro? Ingresa 0 si lo deseas,sino ingresa 1: \"))\n",
        "  if (a==1):\n",
        "    x=x+1\n",
        "lista1=[\"U0015741\",\"198076\",\"a0005437\"]\n",
        "clasif=list(map(lambda a:\"UNAB\" if a.startswith(\"U00\") or a.startswith(\"u00\") else 'Los Andes' if a.startswith(\"A000\") or a.startswith(\"A000\") else None, lista))\n",
        "clasif"
      ],
      "metadata": {
        "id": "XhxFInuvdVS2"
      },
      "execution_count": null,
      "outputs": []
    },
    {
      "cell_type": "markdown",
      "source": [
        "##Armith"
      ],
      "metadata": {
        "id": "kP_sygDQda2e"
      }
    },
    {
      "cell_type": "code",
      "source": [
        "num=[1,2,3,4,5,6,7,8,9,10]\n",
        "exp=int(input(\"Escribe un exponente: \"))\n",
        "x=len(num)\n",
        "for n in range(1,(x)):\n",
        "  num[n]=num[n]**exp\n",
        "print(num)\n",
        "def imprimir(num):\n",
        "  s=1\n",
        "  for i in num:\n",
        "    print(f\"\\nEl resultado del elemento {s} de la lista es {i}\")\n",
        "    s+=1\n",
        "imprimir(num)"
      ],
      "metadata": {
        "id": "SdsHjYiWdecs"
      },
      "execution_count": null,
      "outputs": []
    },
    {
      "cell_type": "code",
      "source": [
        "num=[1,2,3,4,5,6,7,8,9,10]\n",
        "exp=int(input(\"Escribe un exponente: \"))\n",
        "números=[n**exp for n in num]\n",
        "números\n",
        "imprimir(números)"
      ],
      "metadata": {
        "id": "z1nrD16Xdgid"
      },
      "execution_count": null,
      "outputs": []
    },
    {
      "cell_type": "code",
      "source": [
        "num=list(range(1,11))\n",
        "exp=int(input(\"Escribe un exponente: \"))\n",
        "números=lambda num,exp:(n**exp for n in num)\n",
        "número1=números(num,exp)\n",
        "imprimir(list(número1))"
      ],
      "metadata": {
        "id": "MzzBrmaIdjLO"
      },
      "execution_count": null,
      "outputs": []
    }
  ]
}