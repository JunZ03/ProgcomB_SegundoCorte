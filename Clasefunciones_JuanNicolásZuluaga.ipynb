{
  "nbformat": 4,
  "nbformat_minor": 0,
  "metadata": {
    "colab": {
      "provenance": []
    },
    "kernelspec": {
      "name": "python3",
      "display_name": "Python 3"
    },
    "language_info": {
      "name": "python"
    }
  },
  "cells": [
    {
      "cell_type": "markdown",
      "source": [
        "##Apuntes de clase funciones.\n",
        "\n",
        "#Funciones. \n",
        "existen 4 tipos de funciones,\n",
        "\n"
      ],
      "metadata": {
        "id": "fxJsFky2A9k1"
      }
    },
    {
      "cell_type": "code",
      "execution_count": 6,
      "metadata": {
        "colab": {
          "base_uri": "https://localhost:8080/"
        },
        "id": "XceRCNutA8iL",
        "outputId": "eb956bf9-6b20-47ca-dc9f-a8a0bd50711c"
      },
      "outputs": [
        {
          "output_type": "stream",
          "name": "stdout",
          "text": [
            "num de impresiones6\n",
            "hola mundo\n",
            "hola mundo\n",
            "hola mundo\n",
            "hola mundo\n",
            "hola mundo\n",
            "hola mundo\n"
          ]
        }
      ],
      "source": [
        "def holamondo():\n",
        "  b=int(input(\"num de impresiones: \"))\n",
        "  for i in range(b):\n",
        "    print(\"hola mundo\")\n",
        "\n",
        "\n",
        "\n",
        "\n",
        "holamondo()"
      ]
    },
    {
      "cell_type": "markdown",
      "source": [
        "ejercicio de 5000 exp"
      ],
      "metadata": {
        "id": "n-dheQnkL_BC"
      }
    },
    {
      "cell_type": "code",
      "source": [
        "def verificar(correo, contraseña):\n",
        "  if correo == \"jzuluaga182@unab.edu.co\" and contraseña == \"1234568\":\n",
        "    return True\n",
        "  else:\n",
        "    return False\n",
        "\n",
        "\n",
        "def main():\n",
        "  correo=input(\"correo\")\n",
        "  contraseña=input(\"contraseña\")\n",
        "  login=verificar(correo,contraseña)\n",
        "  if login == True:\n",
        "    print(\"bienvenido al sistema\")\n",
        "  else:\n",
        "    print(\"usuario o contraseña incorrectos\")\n",
        "\n",
        "\n",
        "main()"
      ],
      "metadata": {
        "id": "Fn5mGgP7KSyD"
      },
      "execution_count": null,
      "outputs": []
    },
    {
      "cell_type": "code",
      "source": [
        "def calcular_edad(anoactual,anonacimiento):\n",
        "  edad=anoactual-anonacimiento\n",
        "  return edad\n",
        "\n",
        "\n",
        "uno=int(input(\"ingresa el año actual: \"))\n",
        "dos=int(input(\"ingresa el año de nacimiento: \"))\n",
        "tres=int(input(\"ingresa el año actual: \"))\n",
        "cuatro=int(input(\"ingresa el año de nacimiento: \"))\n",
        "edadmia= calcular_edad(uno,dos)\n",
        "edadpana= calcular_edad(tres,cuatro)\n",
        "\n",
        "print(\"Tengo \",edadmia,\" años y mi amigo tiene \",edadpana,\" años.\")"
      ],
      "metadata": {
        "colab": {
          "base_uri": "https://localhost:8080/"
        },
        "id": "Wmj34eeYMHQX",
        "outputId": "ccd75df0-bf74-41c5-f46a-6f21abb75545"
      },
      "execution_count": 11,
      "outputs": [
        {
          "output_type": "stream",
          "name": "stdout",
          "text": [
            "ingresa el año actual: 2022\n",
            "ingresa el año de nacimiento: 2001\n",
            "ingresa el año actual: 2022\n",
            "ingresa el año de nacimiento: 2001\n",
            "Tengo  21  años y mi amigo tiene  21  años.\n"
          ]
        }
      ]
    },
    {
      "cell_type": "code",
      "source": [
        "\n",
        "def informacionPersonal (nombre,años,pais):\n",
        "    name = nombre\n",
        "    country = años\n",
        "    age = pais\n",
        "    impresion=print (name,\", de \",country,\", tiene \" ,age, \" años de edad.\")\n",
        "\n",
        "    return impresion\n",
        "\n",
        "in1=input(\"Ingrese el nombre: \")\n",
        "in2=input(\"Ingrese el país: \")\n",
        "in3=int(input(\"Ingrese la edad: \"))\n",
        "informacionPersonal(in1,in2,in3)\n",
        "\n",
        "\n",
        "\n",
        "\n",
        "\n",
        "#Agrega una línea en la función que devuelva las variables \"name\", \"age\" y \"country\".\n",
        "#Luego, afuera de la función, en la línea 8, llámala\n",
        "#Guarda el valor de llamar a esa función en las variables \"nombre\", \"edad\" y \"país\".\n",
        "#Corre el programa. Debería imprimir el siguiente texto:\n",
        "#Juana de Arco, de Francia, tiene 10 años de edad.\n"
      ],
      "metadata": {
        "colab": {
          "base_uri": "https://localhost:8080/"
        },
        "id": "WPuwo4zEP7gE",
        "outputId": "ec1e6f78-673b-4141-c77e-909766f541f2"
      },
      "execution_count": 18,
      "outputs": [
        {
          "output_type": "stream",
          "name": "stdout",
          "text": [
            "Ingrese el nombre: juan\n",
            "Ingrese el país: colombia\n",
            "Ingrese la edad: 21\n",
            "juan , de  colombia , tiene  21  años de edad.\n"
          ]
        }
      ]
    }
  ]
}