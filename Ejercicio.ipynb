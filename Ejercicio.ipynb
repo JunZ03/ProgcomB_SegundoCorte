{
  "nbformat": 4,
  "nbformat_minor": 0,
  "metadata": {
    "colab": {
      "provenance": []
    },
    "kernelspec": {
      "name": "python3",
      "display_name": "Python 3"
    },
    "language_info": {
      "name": "python"
    }
  },
  "cells": [
    {
      "cell_type": "code",
      "execution_count": 17,
      "metadata": {
        "colab": {
          "base_uri": "https://localhost:8080/"
        },
        "id": "6Q9Iwo7aRSWe",
        "outputId": "10dbd4b9-f8be-4e01-c032-7e26f8c7fee8"
      },
      "outputs": [
        {
          "output_type": "stream",
          "name": "stdout",
          "text": [
            "¿Ingrese el nombre del cliente?: juan\n",
            "¿Hubo mas clientes el día de hoy?: si\n",
            "¿Ingrese el nombre del cliente?: esteban\n",
            "¿Hubo mas clientes el día de hoy?: si\n",
            "¿Ingrese el nombre del cliente?: carlos\n",
            "¿Hubo mas clientes el día de hoy?: si\n",
            "¿Ingrese el nombre del cliente?: gomez\n",
            "¿Hubo mas clientes el día de hoy?: si\n",
            "¿Ingrese el nombre del cliente?: augusto\n",
            "¿Hubo mas clientes el día de hoy?: no\n",
            "['juan', 'esteban', 'carlos', 'gomez', 'augusto']\n",
            "carlos\n"
          ]
        },
        {
          "output_type": "execute_result",
          "data": {
            "text/plain": [
              "{'gomez': 0}"
            ]
          },
          "metadata": {},
          "execution_count": 17
        }
      ],
      "source": [
        "#El programa enviado antes utiliza un ciclo inicial para generar un listado de datos tipo string, dicha lista inicial se utiliza para construir un diccionario, a cada elemento se le asocia un valor, con los valores de cada elemento se procede a organizarlos, encontrar el mayor, y generar un descuento aleatorio para todos los clientes que pasaron cierto umbral de gastos. Para separar a aquellos beneficiados de un descuento se crea otro diccionario, dicho diccionario, mediante un for y una condición, toma solo los datos que cumplen las condiciones, los datos tomados se les aplica un descuento, finalmente el programa presenta el diccionario de todos los clientes que superaron el umbral más su respectivo descuento.\n",
        "import random\n",
        "listado_numerico=[]\n",
        "while True:\n",
        "   nombres=str(input(\"¿Ingrese el nombre del cliente?: \"))\n",
        "   listado_numerico.append(nombres) \n",
        "   confirmador=str(input(\"¿Hubo mas clientes el día de hoy?: \"))\n",
        "   confirmador.lower()\n",
        "   if confirmador == \"no\":\n",
        "     break\n",
        "print(listado_numerico)\n",
        "catalogocomp={listado_numerico: random.randint(100,5000) for listado_numerico in listado_numerico}\n",
        "\n",
        "costes=sorted(catalogocomp)\n",
        "\n",
        "mayor=max(catalogocomp,key=catalogocomp.get)\n",
        "\n",
        "gastos= sum(catalogocomp.values())*0.8 if sum(catalogocomp.values())>10000 else sum(catalogocomp.values())\n",
        "print(mayor)\n",
        "\n",
        "descuentos_prod=[0.6,0,8,0.5]\n",
        "catalogo_descuentos={listado_numerico:random.choice(descuentos_prod)*random.randint(100,5000) for listado_numerico in listado_numerico if random.randint(100,5000)>4000  }\n",
        "\n",
        "\n",
        "catalogo_descuentos"
      ]
    },
    {
      "cell_type": "code",
      "source": [
        "catalogo_descuentos"
      ],
      "metadata": {
        "colab": {
          "base_uri": "https://localhost:8080/"
        },
        "id": "_V9LWRWBU4EP",
        "outputId": "4ed648b5-4d32-4a7c-a26f-0993a0667d88"
      },
      "execution_count": 18,
      "outputs": [
        {
          "output_type": "execute_result",
          "data": {
            "text/plain": [
              "{'gomez': 0}"
            ]
          },
          "metadata": {},
          "execution_count": 18
        }
      ]
    },
    {
      "cell_type": "markdown",
      "source": [
        "#Lambda"
      ],
      "metadata": {
        "id": "8M-3788UVR4n"
      }
    },
    {
      "cell_type": "code",
      "source": [
        "import random "
      ],
      "metadata": {
        "id": "fe5lhIHyVT2-"
      },
      "execution_count": null,
      "outputs": []
    }
  ]
}